{
 "cells": [
  {
   "cell_type": "markdown",
   "metadata": {
    "slideshow": {
     "slide_type": "slide"
    }
   },
   "source": [
    "# Jupyter talk "
   ]
  },
  {
   "cell_type": "markdown",
   "metadata": {
    "slideshow": {
     "slide_type": "skip"
    }
   },
   "source": [
    "# 1. Basics \n",
    "If you've been using Jupyter for over 1 month, you can probably skip this bit "
   ]
  },
  {
   "cell_type": "markdown",
   "metadata": {
    "slideshow": {
     "slide_type": "skip"
    }
   },
   "source": [
    "### Getting started: \n",
    "You can [install Jupyter from here](http://jupyter.org/install.html), or simply use Anaconda \n",
    "When you have it installed, open a terminal, and type `jupyter notebook`. Your browser should open automatically, but if it doesn't go to `localhost:8888`. \n",
    "\n",
    "You should have a `New` button on the top right. Click it, and choose Python (or Julia, if you think you're one of those people)"
   ]
  },
  {
   "cell_type": "markdown",
   "metadata": {
    "slideshow": {
     "slide_type": "skip"
    }
   },
   "source": [
    "!['image'](https://i.snag.gy/zHqIE5.jpg)"
   ]
  },
  {
   "cell_type": "markdown",
   "metadata": {
    "slideshow": {
     "slide_type": "skip"
    }
   },
   "source": [
    "By now you should have something that looks a lot like this. "
   ]
  },
  {
   "cell_type": "markdown",
   "metadata": {
    "slideshow": {
     "slide_type": "skip"
    }
   },
   "source": [
    "### Code "
   ]
  },
  {
   "cell_type": "markdown",
   "metadata": {
    "slideshow": {
     "slide_type": "skip"
    }
   },
   "source": [
    "Jupyter is excellent for mixing code and markdown. You can select a code cell by going to the toolbar and switching from Markdown to Code, but it's much easier to memorize the following shortcuts: \n",
    "- [c]ode\n",
    "- [m]arkdown\n",
    "\n",
    "By hovering on a cell and hiring [c] or [m] you can easily switch from one to the other. \n",
    "\n",
    "Let's start with some basic code: "
   ]
  },
  {
   "cell_type": "code",
   "execution_count": null,
   "metadata": {},
   "outputs": [],
   "source": [
    "3 + 4 "
   ]
  },
  {
   "cell_type": "code",
   "execution_count": null,
   "metadata": {},
   "outputs": [],
   "source": [
    "print('Ducks are awesome')"
   ]
  },
  {
   "cell_type": "code",
   "execution_count": null,
   "metadata": {},
   "outputs": [],
   "source": [
    "'Seriously, ducks are awesome'"
   ]
  },
  {
   "cell_type": "markdown",
   "metadata": {},
   "source": [
    "You might have noticed that the last cell returned the string, even without the print. As a rule of thumb, cells \"assume\" you want them to return at the end. If you want to supress it, either save the output in a variable or end the line with `;`  "
   ]
  },
  {
   "cell_type": "code",
   "execution_count": null,
   "metadata": {},
   "outputs": [],
   "source": [
    "quick_maths = (2 + 2) - 1"
   ]
  },
  {
   "cell_type": "code",
   "execution_count": null,
   "metadata": {},
   "outputs": [],
   "source": [
    "quick_maths"
   ]
  },
  {
   "cell_type": "code",
   "execution_count": null,
   "metadata": {},
   "outputs": [],
   "source": [
    "dog_insult = 'dogs are inferior to ducks'"
   ]
  },
  {
   "cell_type": "code",
   "execution_count": null,
   "metadata": {},
   "outputs": [],
   "source": [
    "dog_insult"
   ]
  },
  {
   "cell_type": "code",
   "execution_count": null,
   "metadata": {},
   "outputs": [],
   "source": [
    "'duck haters will dislike this notebook';"
   ]
  },
  {
   "cell_type": "markdown",
   "metadata": {},
   "source": [
    "### Markdown "
   ]
  },
  {
   "cell_type": "markdown",
   "metadata": {},
   "source": [
    "with the markdown cells, you can do all of the normal stuff you can do in the wonderful, sexy sexy [markdown](https://github.com/adam-p/markdown-here/wiki/Markdown-Cheatsheet)"
   ]
  },
  {
   "cell_type": "markdown",
   "metadata": {},
   "source": [
    "# Why ducks are awesome \n",
    "### Chapter one: rise of the quacks \n",
    "###### Tiny detail in italics about the feather composition \n",
    "\n",
    "Formatting: \n",
    "I can write the word **Donald** in bold, *Duck* in italics, etc etc \n",
    "\n",
    "Link to the [wikipedia page about ducks](https://en.wikipedia.org/wiki/Duck)"
   ]
  },
  {
   "cell_type": "markdown",
   "metadata": {},
   "source": [
    "# 2. Intermediate "
   ]
  },
  {
   "cell_type": "markdown",
   "metadata": {},
   "source": [
    "If you've been using Jupyter for over 3 months, you can probably skip this "
   ]
  },
  {
   "cell_type": "markdown",
   "metadata": {},
   "source": [
    "## 2.1 Images: "
   ]
  },
  {
   "cell_type": "markdown",
   "metadata": {},
   "source": [
    "#### In markdown, from a URL "
   ]
  },
  {
   "cell_type": "markdown",
   "metadata": {},
   "source": [
    "![](https://farm8.static.flickr.com/7366/27112174395_c27df6b84a_b.jpg)"
   ]
  },
  {
   "cell_type": "markdown",
   "metadata": {},
   "source": [
    "#### In markdown, from a disk "
   ]
  },
  {
   "cell_type": "markdown",
   "metadata": {},
   "source": [
    "!['not a duck'](images/totally_not_a_duck_picture.png)"
   ]
  },
  {
   "cell_type": "markdown",
   "metadata": {},
   "source": [
    "#### In code"
   ]
  },
  {
   "cell_type": "code",
   "execution_count": null,
   "metadata": {},
   "outputs": [],
   "source": [
    "from IPython.display import Image"
   ]
  },
  {
   "cell_type": "code",
   "execution_count": null,
   "metadata": {},
   "outputs": [],
   "source": [
    "Image(url='http://coolestone.com/thumbs/e7893e1fbecf.jpg') "
   ]
  },
  {
   "cell_type": "markdown",
   "metadata": {},
   "source": [
    "This is generally better, because you can control the size"
   ]
  },
  {
   "cell_type": "code",
   "execution_count": null,
   "metadata": {},
   "outputs": [],
   "source": [
    "Image(url='images/running.jpg') "
   ]
  },
  {
   "cell_type": "markdown",
   "metadata": {},
   "source": [
    "And yes, since you ask, of course you can use Gifs. "
   ]
  },
  {
   "cell_type": "markdown",
   "metadata": {},
   "source": [
    "#### Markdown"
   ]
  },
  {
   "cell_type": "markdown",
   "metadata": {},
   "source": [
    "!['duck'](images/yawn.gif)"
   ]
  },
  {
   "cell_type": "markdown",
   "metadata": {},
   "source": [
    "#### Code"
   ]
  },
  {
   "cell_type": "code",
   "execution_count": null,
   "metadata": {},
   "outputs": [],
   "source": [
    "Image(url='https://media.giphy.com/media/NfL15G1Fh7TK8/giphy.gif')"
   ]
  },
  {
   "cell_type": "markdown",
   "metadata": {},
   "source": [
    "If you hate life, you can also use HTML. This naturally gives you full control over size, color, etc."
   ]
  },
  {
   "cell_type": "markdown",
   "metadata": {},
   "source": [
    "<div style=\"width:50%\">![HTMLduck](https://cdn.shopify.com/s/files/1/1321/6369/products/DSCF1977_large.jpg?v=1506921493)</div>"
   ]
  },
  {
   "cell_type": "markdown",
   "metadata": {},
   "source": [
    "# Run scripts "
   ]
  },
  {
   "cell_type": "code",
   "execution_count": null,
   "metadata": {},
   "outputs": [],
   "source": [
    "import super_cool_script\n",
    "import os \n",
    "\n",
    "def look_clever_as_hell():\n",
    "    print('Chose a file to run deep neural networks on the blockchain:')\n",
    "    for file in os.listdir('files'):\n",
    "        print(file)\n",
    "    answer = input('\\nFile: ')\n",
    "    \n",
    "    super_cool_script.run(answer)\n"
   ]
  },
  {
   "cell_type": "code",
   "execution_count": null,
   "metadata": {},
   "outputs": [],
   "source": [
    "look_clever_as_hell()"
   ]
  },
  {
   "cell_type": "markdown",
   "metadata": {},
   "source": [
    "# Inspect functions "
   ]
  },
  {
   "cell_type": "code",
   "execution_count": null,
   "metadata": {},
   "outputs": [],
   "source": [
    "super_cool_script??"
   ]
  },
  {
   "cell_type": "markdown",
   "metadata": {},
   "source": [
    "# List global variables by type "
   ]
  },
  {
   "cell_type": "code",
   "execution_count": null,
   "metadata": {},
   "outputs": [],
   "source": [
    "duck = 'duck'\n",
    "nr_of_ducks = 35\n",
    "emotion = 'love'\n",
    "amount_of_love = 9000\n",
    "dog_to_duck_quality_ratio = 0.0001"
   ]
  },
  {
   "cell_type": "code",
   "execution_count": null,
   "metadata": {},
   "outputs": [],
   "source": [
    "%who str"
   ]
  },
  {
   "cell_type": "code",
   "execution_count": null,
   "metadata": {},
   "outputs": [],
   "source": [
    "%who int"
   ]
  },
  {
   "cell_type": "code",
   "execution_count": null,
   "metadata": {},
   "outputs": [],
   "source": [
    "%who float"
   ]
  },
  {
   "cell_type": "code",
   "execution_count": null,
   "metadata": {},
   "outputs": [],
   "source": [
    "import pandas as pd \n",
    "from pandas import DataFrame"
   ]
  },
  {
   "cell_type": "code",
   "execution_count": null,
   "metadata": {},
   "outputs": [],
   "source": [
    "q = pd.DataFrame()"
   ]
  },
  {
   "cell_type": "code",
   "execution_count": null,
   "metadata": {},
   "outputs": [],
   "source": [
    "%who DataFrame"
   ]
  },
  {
   "cell_type": "markdown",
   "metadata": {
    "slideshow": {
     "slide_type": "slide"
    }
   },
   "source": [
    "# Running functions in the notebook"
   ]
  },
  {
   "cell_type": "code",
   "execution_count": null,
   "metadata": {
    "slideshow": {
     "slide_type": "subslide"
    }
   },
   "outputs": [],
   "source": [
    "from sklearn.tree import DecisionTreeClassifier\n",
    "from sklearn import tree\n",
    "import graphviz\n",
    "\n",
    "import pandas as pd \n",
    "% matplotlib inline \n",
    "from matplotlib import pyplot as plt "
   ]
  },
  {
   "cell_type": "code",
   "execution_count": null,
   "metadata": {
    "slideshow": {
     "slide_type": "subslide"
    }
   },
   "outputs": [],
   "source": [
    "def get_wine_data():\n",
    "    data = pd.read_csv('files/wineQualityReds.csv')\n",
    "    features = ['alcohol', 'sulphates', 'volatile.acidity', 'total.sulfur.dioxide']\n",
    "    target = 'quality'\n",
    "    data[target] = data[target].map(lambda x: 1 if x >= data[target].median() else 0)\n",
    "    return data, features, target\n",
    "\n",
    "\n",
    "def explain_data(max_depth, min_impurity_split):\n",
    "    t = DecisionTreeClassifier(max_depth=max_depth, \n",
    "                               min_impurity_split=min_impurity_split)\n",
    "    \n",
    "    t.fit(data[features], data[target]);\n",
    "    dot_data = tree.export_graphviz(t, out_file=None, feature_names=features,  \n",
    "                             class_names=['Bad wine', 'Good Wine'], \n",
    "                             filled=True, rounded=True,  \n",
    "                             special_characters=True)\n",
    "    graph = graphviz.Source(dot_data)  \n",
    "    return graph "
   ]
  },
  {
   "cell_type": "code",
   "execution_count": null,
   "metadata": {
    "slideshow": {
     "slide_type": "skip"
    }
   },
   "outputs": [],
   "source": [
    "data, features, target = get_wine_data()\n",
    "explain_data(max_depth=3, \n",
    "             min_impurity_split=.2)   # <-- Notice that it remembered the global variables "
   ]
  },
  {
   "cell_type": "markdown",
   "metadata": {
    "slideshow": {
     "slide_type": "skip"
    }
   },
   "source": [
    "# Interact "
   ]
  },
  {
   "cell_type": "markdown",
   "metadata": {
    "slideshow": {
     "slide_type": "skip"
    }
   },
   "source": [
    "If you haven't done it before, you might need to run the following on a console:  \n",
    "> pip install ipywidgets  \n",
    "> jupyter nbextension enable --py widgetsnbextension  \n",
    "\n",
    "Then re-launch your notebook.  "
   ]
  },
  {
   "cell_type": "code",
   "execution_count": null,
   "metadata": {
    "slideshow": {
     "slide_type": "skip"
    }
   },
   "outputs": [],
   "source": [
    "from ipywidgets import interact"
   ]
  },
  {
   "cell_type": "code",
   "execution_count": null,
   "metadata": {
    "slideshow": {
     "slide_type": "skip"
    }
   },
   "outputs": [],
   "source": [
    "def a_power_b(a, b): \n",
    "    return a ** b"
   ]
  },
  {
   "cell_type": "code",
   "execution_count": null,
   "metadata": {
    "slideshow": {
     "slide_type": "skip"
    }
   },
   "outputs": [],
   "source": [
    "interact(a_power_b, a=(0, 10, 1), b=(4, 7, 1))"
   ]
  },
  {
   "cell_type": "markdown",
   "metadata": {
    "slideshow": {
     "slide_type": "skip"
    }
   },
   "source": [
    "Boring... "
   ]
  },
  {
   "cell_type": "code",
   "execution_count": null,
   "metadata": {
    "slideshow": {
     "slide_type": "skip"
    }
   },
   "outputs": [],
   "source": [
    "import numpy as np"
   ]
  },
  {
   "cell_type": "code",
   "execution_count": null,
   "metadata": {
    "slideshow": {
     "slide_type": "skip"
    }
   },
   "outputs": [],
   "source": [
    "def plot_sin(x, y):\n",
    "    t=np.linspace(0.0, 1.0, 100)\n",
    "    plt.plot(t, np.sin(2* 3.14 * t * x) + y)\n",
    "    plt.ylim=(-3 ,3)\n",
    "    plt.show()\n",
    "    \n",
    "interact(plot_sin, x=(1.0, 10.0, .01), y=(-2, 2))"
   ]
  },
  {
   "cell_type": "markdown",
   "metadata": {
    "slideshow": {
     "slide_type": "slide"
    }
   },
   "source": [
    "# This is your Dataset, Mr. Riskman."
   ]
  },
  {
   "cell_type": "code",
   "execution_count": null,
   "metadata": {
    "slideshow": {
     "slide_type": "fragment"
    }
   },
   "outputs": [],
   "source": [
    "data, features, target = get_wine_data()\n",
    "interact(explain_data, max_depth=(1, 5, 1), min_impurity_split=(0, .5, .02))  "
   ]
  },
  {
   "cell_type": "markdown",
   "metadata": {
    "slideshow": {
     "slide_type": "slide"
    }
   },
   "source": [
    "# Presentation mode \n",
    "This is a slide! "
   ]
  },
  {
   "cell_type": "markdown",
   "metadata": {
    "slideshow": {
     "slide_type": "fragment"
    }
   },
   "source": [
    "This is a Fragment! \n",
    "Details: [RISE](https://damianavila.github.io/RISE/)"
   ]
  },
  {
   "cell_type": "code",
   "execution_count": null,
   "metadata": {
    "scrolled": false,
    "slideshow": {
     "slide_type": "skip"
    }
   },
   "outputs": [],
   "source": [
    "# to install: \n",
    "#! pip install RISE\n",
    "#! jupyter-nbextension install rise --py --sys-prefix\n",
    "#! jupyter-nbextension enable rise --py --sys-prefix"
   ]
  },
  {
   "cell_type": "markdown",
   "metadata": {
    "slideshow": {
     "slide_type": "skip"
    }
   },
   "source": [
    "To edit the slideshow options, go to `view -> cell toolbar -> slideshow`   \n",
    "To run, click the `Enter/Exit RISE Slideshow`, in the toolbar \n",
    "\n",
    "This is a sub-slide! "
   ]
  },
  {
   "cell_type": "markdown",
   "metadata": {
    "slideshow": {
     "slide_type": "subslide"
    }
   },
   "source": [
    "## Some explanation \n",
    "Some simple sub explanation "
   ]
  },
  {
   "cell_type": "code",
   "execution_count": null,
   "metadata": {
    "slideshow": {
     "slide_type": "skip"
    }
   },
   "outputs": [],
   "source": [
    "def code_i_dont_want_to_show():\n",
    "    #secret sauce \n",
    "    #secret sauce \n",
    "    #secret sauce \n",
    "    Hugo = 'Secret Sauce'\n",
    "    return Hugo "
   ]
  },
  {
   "cell_type": "code",
   "execution_count": null,
   "metadata": {
    "slideshow": {
     "slide_type": "fragment"
    }
   },
   "outputs": [],
   "source": [
    "# did you notice we skipped the `code_i_dont_want_to_show()` cell?\n",
    "some_awesome_code = 'bit too much hype'"
   ]
  },
  {
   "cell_type": "code",
   "execution_count": null,
   "metadata": {
    "slideshow": {
     "slide_type": "fragment"
    }
   },
   "outputs": [],
   "source": [
    "Image(url='https://media.licdn.com/mpr/mpr/shrinknp_200_200/AAEAAQAAAAAAAAakAAAAJDJkZmRiYzdkLWY4NTItNDBhNi1iMGFkLWY0YmFhNmY5NTIxNg.jpg') "
   ]
  },
  {
   "cell_type": "markdown",
   "metadata": {
    "slideshow": {
     "slide_type": "slide"
    }
   },
   "source": [
    "# Next slide "
   ]
  },
  {
   "cell_type": "code",
   "execution_count": null,
   "metadata": {
    "slideshow": {
     "slide_type": "fragment"
    }
   },
   "outputs": [],
   "source": [
    "def more_stuff():\n",
    "    return 'And so on and so forth'"
   ]
  },
  {
   "cell_type": "markdown",
   "metadata": {
    "slideshow": {
     "slide_type": "slide"
    }
   },
   "source": [
    "# Unix commands\n",
    "(enough RISE for now) \n",
    "\n",
    "#### This might be when non-developers might want to go get a beer. If you are brave, stick around! "
   ]
  },
  {
   "cell_type": "markdown",
   "metadata": {
    "slideshow": {
     "slide_type": "slide"
    }
   },
   "source": [
    "Where is this notebook? "
   ]
  },
  {
   "cell_type": "code",
   "execution_count": null,
   "metadata": {},
   "outputs": [],
   "source": [
    "!pwd"
   ]
  },
  {
   "cell_type": "markdown",
   "metadata": {},
   "source": [
    "What is in it? "
   ]
  },
  {
   "cell_type": "code",
   "execution_count": null,
   "metadata": {},
   "outputs": [],
   "source": [
    "!ls   # ! is optiona "
   ]
  },
  {
   "cell_type": "markdown",
   "metadata": {},
   "source": [
    "Can I haz folder? "
   ]
  },
  {
   "cell_type": "code",
   "execution_count": null,
   "metadata": {},
   "outputs": [],
   "source": [
    "!mkdir useless_folder"
   ]
  },
  {
   "cell_type": "markdown",
   "metadata": {},
   "source": [
    "Can I go into it? (no need for `!` on this one)"
   ]
  },
  {
   "cell_type": "code",
   "execution_count": null,
   "metadata": {},
   "outputs": [],
   "source": [
    "cd useless_folder "
   ]
  },
  {
   "cell_type": "code",
   "execution_count": null,
   "metadata": {},
   "outputs": [],
   "source": [
    "!htop"
   ]
  },
  {
   "cell_type": "markdown",
   "metadata": {},
   "source": [
    "Can I put stuff in it? "
   ]
  },
  {
   "cell_type": "code",
   "execution_count": null,
   "metadata": {},
   "outputs": [],
   "source": [
    "!touch useless_folder/my_file.txt "
   ]
  },
  {
   "cell_type": "markdown",
   "metadata": {},
   "source": [
    "Can I go back? "
   ]
  },
  {
   "cell_type": "code",
   "execution_count": null,
   "metadata": {},
   "outputs": [],
   "source": [
    "cd .."
   ]
  },
  {
   "cell_type": "markdown",
   "metadata": {},
   "source": [
    "Does it now exist? "
   ]
  },
  {
   "cell_type": "code",
   "execution_count": null,
   "metadata": {},
   "outputs": [],
   "source": [
    "!ls useless_folder/"
   ]
  },
  {
   "cell_type": "markdown",
   "metadata": {},
   "source": [
    "I kill? Yes? "
   ]
  },
  {
   "cell_type": "code",
   "execution_count": null,
   "metadata": {},
   "outputs": [],
   "source": [
    "rm -rf useless_folder/  # if you don't know unix, never rm -rf"
   ]
  },
  {
   "cell_type": "markdown",
   "metadata": {},
   "source": [
    "## 2.2 LaTeX "
   ]
  },
  {
   "cell_type": "markdown",
   "metadata": {},
   "source": [
    "The quadratic equation solver is $$ \\frac{-b\\pm\\sqrt{b^2-4ac}}{2a} $$"
   ]
  },
  {
   "cell_type": "markdown",
   "metadata": {},
   "source": [
    "The quadratic equation solver is $ \\frac{-b\\pm\\sqrt{b^2-4ac}}{2a} $"
   ]
  },
  {
   "cell_type": "markdown",
   "metadata": {},
   "source": [
    "## 2.3 Debugging "
   ]
  },
  {
   "cell_type": "code",
   "execution_count": null,
   "metadata": {},
   "outputs": [],
   "source": [
    "def my_buggy_function(): \n",
    "    \"\"\"\n",
    "    Deliberately confusing and buggy code\n",
    "    \"\"\"\n",
    "    a = 3\n",
    "    b = None \n",
    "    c = 5 \n",
    "    # lots of code \n",
    "    # lots of code \n",
    "    def what_do_you_think_this_is_JavaScript(variable, names, matter):\n",
    "        intermediate_stuff = variable + names / matter\n",
    "        return intermediate_stuff  \n",
    "    # lots of code \n",
    "    # lots of code \n",
    "    what_do_you_think_this_is_JavaScript(a, b, 3)\n",
    "    # lots of code \n",
    "    # lots of code \n",
    "    return correct_answer_with_any_luck"
   ]
  },
  {
   "cell_type": "markdown",
   "metadata": {},
   "source": [
    "Try running it: "
   ]
  },
  {
   "cell_type": "code",
   "execution_count": null,
   "metadata": {},
   "outputs": [],
   "source": [
    "try: \n",
    "    my_buggy_function()\n",
    "except Exception as e:\n",
    "    print('The hell is this error? Python must be wrong!\\n--->', e)"
   ]
  },
  {
   "cell_type": "code",
   "execution_count": null,
   "metadata": {},
   "outputs": [],
   "source": [
    "% pdb"
   ]
  },
  {
   "cell_type": "code",
   "execution_count": null,
   "metadata": {},
   "outputs": [],
   "source": [
    "my_buggy_function()  \n",
    "\n",
    "# run this, then write this in the box: type(names)\n",
    "# when you've explored the variable names, write exit "
   ]
  },
  {
   "cell_type": "code",
   "execution_count": null,
   "metadata": {},
   "outputs": [],
   "source": [
    "% pdb "
   ]
  },
  {
   "cell_type": "markdown",
   "metadata": {},
   "source": [
    "How cool is that? You can live debug in the notebook! "
   ]
  },
  {
   "cell_type": "markdown",
   "metadata": {},
   "source": [
    "# Code profiling "
   ]
  },
  {
   "cell_type": "code",
   "execution_count": null,
   "metadata": {},
   "outputs": [],
   "source": [
    "% time my_sum = sum(range(10000))"
   ]
  },
  {
   "cell_type": "code",
   "execution_count": null,
   "metadata": {},
   "outputs": [],
   "source": [
    "% timeit my_sum = sum(range(10000))"
   ]
  },
  {
   "cell_type": "markdown",
   "metadata": {},
   "source": [
    "Line by line "
   ]
  },
  {
   "cell_type": "code",
   "execution_count": null,
   "metadata": {},
   "outputs": [],
   "source": [
    "import time \n",
    "def run(answer):\n",
    "    print(\n",
    "        '\\nPreparing to run the deep neural nets on the blockchain on %s'\n",
    "        % answer)\n",
    "    def first_block():\n",
    "        time.sleep(1)\n",
    "        print('\\n\\nFitting the Deep Neural Net...')\n",
    "        for i in range(5):\n",
    "            print('.', end='')\n",
    "            time.sleep(0.05)\n",
    "    def second_block():\n",
    "        time.sleep(.5)\n",
    "        print('\\n\\nFitting the even deeper neural network with RNNs')\n",
    "        for i in range(30):\n",
    "            print('.', end='')\n",
    "            time.sleep(0.05)\n",
    "    def third_block():    \n",
    "        print('\\n\\nDoing completely useless sums')\n",
    "        sum(range(10000000))\n",
    "        time.sleep(.5)\n",
    "    \n",
    "    def fourth_block():\n",
    "        print('\\n\\nPrinting the Smart Contract on the Blockchain')\n",
    "        for i in range(10):\n",
    "            print('.', end='')\n",
    "            time.sleep(0.2)\n",
    "        time.sleep(1)\n",
    "        \n",
    "    def last():\n",
    "        print('\\n\\nWaiting for the ink to dry...')\n",
    "        time.sleep(1)\n",
    "        \n",
    "    first_block()\n",
    "    second_block()\n",
    "    third_block()\n",
    "    fourth_block()\n",
    "    last()\n",
    "    print('\\n\\nComplete. Damn that was impressive.')"
   ]
  },
  {
   "cell_type": "code",
   "execution_count": null,
   "metadata": {},
   "outputs": [],
   "source": [
    "%prun run('big_csv.csv')"
   ]
  },
  {
   "cell_type": "markdown",
   "metadata": {},
   "source": [
    "Line per line profiling (did I mention we can pip install from here?)"
   ]
  },
  {
   "cell_type": "code",
   "execution_count": null,
   "metadata": {},
   "outputs": [],
   "source": [
    "! pip install line_profiler"
   ]
  },
  {
   "cell_type": "code",
   "execution_count": null,
   "metadata": {},
   "outputs": [],
   "source": [
    "%load_ext line_profiler"
   ]
  },
  {
   "cell_type": "code",
   "execution_count": null,
   "metadata": {},
   "outputs": [],
   "source": [
    "%lprun -f run run('awesome_file')"
   ]
  },
  {
   "cell_type": "markdown",
   "metadata": {},
   "source": [
    "# Memory profiling "
   ]
  },
  {
   "cell_type": "code",
   "execution_count": null,
   "metadata": {},
   "outputs": [],
   "source": [
    "! pip install memory_profiler"
   ]
  },
  {
   "cell_type": "code",
   "execution_count": null,
   "metadata": {},
   "outputs": [],
   "source": [
    "%load_ext memory_profiler"
   ]
  },
  {
   "cell_type": "code",
   "execution_count": null,
   "metadata": {},
   "outputs": [],
   "source": [
    "%memit run('big_csv.csv')"
   ]
  },
  {
   "cell_type": "markdown",
   "metadata": {},
   "source": [
    "**`%mprun`** does the memory equivalent as **`%prun`**, but unfortunately it's [crazy buggy](https://perso.crans.org/besson/publis/notebooks/Profiling_in_a_Jupyter_notebook.html) (skipped here) "
   ]
  },
  {
   "cell_type": "code",
   "execution_count": null,
   "metadata": {},
   "outputs": [],
   "source": [
    "# %mprun -T res.txt -f run_demo long_function('as_if_it_made_any_difference.csv')   # now run and profile it "
   ]
  },
  {
   "cell_type": "markdown",
   "metadata": {},
   "source": [
    "### Writing straight to file: "
   ]
  },
  {
   "cell_type": "code",
   "execution_count": null,
   "metadata": {},
   "outputs": [],
   "source": [
    "%%file run_demo.py \n",
    "\n",
    "import tensorflow as tf  # <-- valuation += 9000 \n",
    "\n",
    "def something_i_want_on_file():\n",
    "    print('thank heavens this is on file now, using control-c is so much trouble')"
   ]
  },
  {
   "cell_type": "code",
   "execution_count": null,
   "metadata": {},
   "outputs": [],
   "source": [
    "cat run_demo.py"
   ]
  },
  {
   "cell_type": "markdown",
   "metadata": {},
   "source": [
    "Lazy passing data between notebooks"
   ]
  },
  {
   "cell_type": "code",
   "execution_count": null,
   "metadata": {},
   "outputs": [],
   "source": [
    "answer = 'this is the correct answer'\n",
    "\n",
    "%store answer \n",
    "del answer "
   ]
  },
  {
   "cell_type": "markdown",
   "metadata": {},
   "source": [
    "# Working on remote "
   ]
  },
  {
   "cell_type": "markdown",
   "metadata": {},
   "source": [
    "This is where things get hardcore. You can switch Kernels within the notebook... "
   ]
  },
  {
   "cell_type": "code",
   "execution_count": null,
   "metadata": {},
   "outputs": [],
   "source": [
    "import psutil\n",
    "print('I have %0.0f CPUs to play with' % psutil.cpu_count())\n",
    "print('I have %0.2f GB of memory available' % (psutil.virtual_memory().total * 10**-9))"
   ]
  },
  {
   "cell_type": "markdown",
   "metadata": {},
   "source": [
    "Yay! More cores! "
   ]
  },
  {
   "cell_type": "markdown",
   "metadata": {},
   "source": [
    "    workon my-virtualenv-name  \n",
    "    pip install ipykernel  \n",
    "    python -m ipykernel install --user --name=my-virtualenv-name  "
   ]
  },
  {
   "cell_type": "markdown",
   "metadata": {},
   "source": [
    "----"
   ]
  },
  {
   "cell_type": "markdown",
   "metadata": {},
   "source": [
    "# References, further reading:"
   ]
  },
  {
   "cell_type": "markdown",
   "metadata": {},
   "source": [
    "- Highly inspired by [DataQuest's notebook with tips and tricks](https://www.dataquest.io/blog/jupyter-notebook-tips-tricks-shortcuts/)  \n",
    "- Also contains some tricks by [DominoDataLab](https://blog.dominodatalab.com/lesser-known-ways-of-using-notebooks/)\n",
    "- [RISE documentation](https://damianavila.github.io/RISE/)\n",
    "\n",
    "- [More cool DominoDataLab Stufff](https://blog.dominodatalab.com/interactive-dashboards-in-jupyter/)\n",
    "- [Code profiling by JakeVDP](https://jakevdp.github.io/PythonDataScienceHandbook/01.07-timing-and-profiling.html) \n",
    "- [Fortran and Cyton](http://arogozhnikov.github.io/2016/09/10/jupyter-features.html)  \n",
    "- Add Big data Analysis: [link](http://arogozhnikov.github.io/2016/09/10/jupyter-features.html)   \n",
    "- Also figure out if this is safe: [link](http://arogozhnikov.github.io/2016/09/10/jupyter-features.html#Let-others-to-play-with-your-code-without-installing-anything)"
   ]
  },
  {
   "cell_type": "code",
   "execution_count": null,
   "metadata": {},
   "outputs": [],
   "source": []
  }
 ],
 "metadata": {
  "kernelspec": {
   "display_name": "Python 3",
   "language": "python",
   "name": "python3"
  },
  "language_info": {
   "codemirror_mode": {
    "name": "ipython",
    "version": 3
   },
   "file_extension": ".py",
   "mimetype": "text/x-python",
   "name": "python",
   "nbconvert_exporter": "python",
   "pygments_lexer": "ipython3",
   "version": "3.4.3"
  }
 },
 "nbformat": 4,
 "nbformat_minor": 2
}
