{
 "cells": [
  {
   "cell_type": "markdown",
   "metadata": {
    "slideshow": {
     "slide_type": "slide"
    }
   },
   "source": [
    "# Jupyter talk "
   ]
  },
  {
   "cell_type": "markdown",
   "metadata": {
    "slideshow": {
     "slide_type": "skip"
    }
   },
   "source": [
    "# 1. Basics \n",
    "If you've been using Jupyter for over 1 month, you can probably skip this bit "
   ]
  },
  {
   "cell_type": "markdown",
   "metadata": {
    "slideshow": {
     "slide_type": "skip"
    }
   },
   "source": [
    "### Getting started: \n",
    "You can [install Jupyter from here](http://jupyter.org/install.html), or simply use Anaconda \n",
    "When you have it installed, open a terminal, and type `jupyter notebook`. Your browser should open automatically, but if it doesn't go to `localhost:8888`. \n",
    "\n",
    "You should have a `New` button on the top right. Click it, and choose Python (or Julia, if you think you're one of those people)"
   ]
  },
  {
   "cell_type": "markdown",
   "metadata": {
    "slideshow": {
     "slide_type": "skip"
    }
   },
   "source": [
    "!['image'](https://i.snag.gy/zHqIE5.jpg)"
   ]
  },
  {
   "cell_type": "markdown",
   "metadata": {
    "slideshow": {
     "slide_type": "skip"
    }
   },
   "source": [
    "By now you should have something that looks a lot like this. "
   ]
  },
  {
   "cell_type": "markdown",
   "metadata": {
    "slideshow": {
     "slide_type": "skip"
    }
   },
   "source": [
    "### Code "
   ]
  },
  {
   "cell_type": "markdown",
   "metadata": {
    "slideshow": {
     "slide_type": "skip"
    }
   },
   "source": [
    "Jupyter is excellent for mixing code and markdown. You can select a code cell by going to the toolbar and switching from Markdown to Code, but it's much easier to memorize the following shortcuts: \n",
    "- [c]ode\n",
    "- [m]arkdown\n",
    "\n",
    "By hovering on a cell and hiring [c] or [m] you can easily switch from one to the other. \n",
    "\n",
    "Let's start with some basic code: "
   ]
  },
  {
   "cell_type": "code",
   "execution_count": 1,
   "metadata": {},
   "outputs": [
    {
     "data": {
      "text/plain": [
       "7"
      ]
     },
     "execution_count": 1,
     "metadata": {},
     "output_type": "execute_result"
    }
   ],
   "source": [
    "3 + 4 "
   ]
  },
  {
   "cell_type": "code",
   "execution_count": 2,
   "metadata": {},
   "outputs": [
    {
     "name": "stdout",
     "output_type": "stream",
     "text": [
      "Ducks are awesome\n"
     ]
    }
   ],
   "source": [
    "print('Ducks are awesome')"
   ]
  },
  {
   "cell_type": "code",
   "execution_count": 3,
   "metadata": {},
   "outputs": [
    {
     "data": {
      "text/plain": [
       "'Seriously, ducks are awesome'"
      ]
     },
     "execution_count": 3,
     "metadata": {},
     "output_type": "execute_result"
    }
   ],
   "source": [
    "'Seriously, ducks are awesome'"
   ]
  },
  {
   "cell_type": "markdown",
   "metadata": {},
   "source": [
    "You might have noticed that the last cell returned the string, even without the print. As a rule of thumb, cells \"assume\" you want them to return at the end. If you want to supress it, either save the output in a variable or end the line with `;`  "
   ]
  },
  {
   "cell_type": "code",
   "execution_count": 4,
   "metadata": {},
   "outputs": [],
   "source": [
    "quick_maths = (2 + 2) - 1"
   ]
  },
  {
   "cell_type": "code",
   "execution_count": 5,
   "metadata": {},
   "outputs": [
    {
     "data": {
      "text/plain": [
       "3"
      ]
     },
     "execution_count": 5,
     "metadata": {},
     "output_type": "execute_result"
    }
   ],
   "source": [
    "quick_maths"
   ]
  },
  {
   "cell_type": "code",
   "execution_count": 6,
   "metadata": {},
   "outputs": [],
   "source": [
    "dog_insult = 'dogs are inferior to ducks'"
   ]
  },
  {
   "cell_type": "code",
   "execution_count": 7,
   "metadata": {},
   "outputs": [
    {
     "data": {
      "text/plain": [
       "'dogs are inferior to ducks'"
      ]
     },
     "execution_count": 7,
     "metadata": {},
     "output_type": "execute_result"
    }
   ],
   "source": [
    "dog_insult"
   ]
  },
  {
   "cell_type": "code",
   "execution_count": 8,
   "metadata": {},
   "outputs": [],
   "source": [
    "'duck haters will dislike this notebook';"
   ]
  },
  {
   "cell_type": "markdown",
   "metadata": {},
   "source": [
    "### Markdown "
   ]
  },
  {
   "cell_type": "markdown",
   "metadata": {},
   "source": [
    "with the markdown cells, you can do all of the normal stuff you can do in the wonderful, sexy sexy [markdown](https://github.com/adam-p/markdown-here/wiki/Markdown-Cheatsheet)"
   ]
  },
  {
   "cell_type": "markdown",
   "metadata": {},
   "source": [
    "# Why ducks are awesome \n",
    "### Chapter one: rise of the quacks \n",
    "###### Tiny detail in italics about the feather composition \n",
    "\n",
    "Formatting: \n",
    "I can write the word **Donald** in bold, *Duck* in italics, etc etc \n",
    "\n",
    "Link to the [wikipedia page about ducks](https://en.wikipedia.org/wiki/Duck)"
   ]
  },
  {
   "cell_type": "markdown",
   "metadata": {},
   "source": [
    "# 2. Intermediate "
   ]
  },
  {
   "cell_type": "markdown",
   "metadata": {},
   "source": [
    "If you've been using Jupyter for over 3 months, you can probably skip this "
   ]
  },
  {
   "cell_type": "markdown",
   "metadata": {},
   "source": [
    "## 2.1 Images: "
   ]
  },
  {
   "cell_type": "markdown",
   "metadata": {},
   "source": [
    "#### In markdown, from a URL "
   ]
  },
  {
   "cell_type": "markdown",
   "metadata": {},
   "source": [
    "![](https://farm8.static.flickr.com/7366/27112174395_c27df6b84a_b.jpg)"
   ]
  },
  {
   "cell_type": "markdown",
   "metadata": {},
   "source": [
    "#### In markdown, from a disk "
   ]
  },
  {
   "cell_type": "markdown",
   "metadata": {},
   "source": [
    "!['not a duck'](images/totally_not_a_duck_picture.png)"
   ]
  },
  {
   "cell_type": "markdown",
   "metadata": {},
   "source": [
    "#### In code"
   ]
  },
  {
   "cell_type": "code",
   "execution_count": 9,
   "metadata": {},
   "outputs": [],
   "source": [
    "from IPython.display import Image"
   ]
  },
  {
   "cell_type": "code",
   "execution_count": null,
   "metadata": {},
   "outputs": [],
   "source": [
    "Image(url='http://coolestone.com/thumbs/e7893e1fbecf.jpg') "
   ]
  },
  {
   "cell_type": "markdown",
   "metadata": {},
   "source": [
    "This is generally better, because you can control the size"
   ]
  },
  {
   "cell_type": "code",
   "execution_count": null,
   "metadata": {},
   "outputs": [],
   "source": [
    "Image(url='images/running.jpg') "
   ]
  },
  {
   "cell_type": "markdown",
   "metadata": {},
   "source": [
    "And yes, since you ask, of course you can use Gifs. "
   ]
  },
  {
   "cell_type": "markdown",
   "metadata": {},
   "source": [
    "#### Markdown"
   ]
  },
  {
   "cell_type": "markdown",
   "metadata": {},
   "source": [
    "!['duck'](images/yawn.gif)"
   ]
  },
  {
   "cell_type": "markdown",
   "metadata": {},
   "source": [
    "#### Code"
   ]
  },
  {
   "cell_type": "code",
   "execution_count": null,
   "metadata": {},
   "outputs": [],
   "source": [
    "Image(url='https://media.giphy.com/media/NfL15G1Fh7TK8/giphy.gif')"
   ]
  },
  {
   "cell_type": "markdown",
   "metadata": {},
   "source": [
    "If you hate life, you can also use HTML. This naturally gives you full control over size, color, etc."
   ]
  },
  {
   "cell_type": "markdown",
   "metadata": {},
   "source": [
    "<div style=\"width:50%\">![HTMLduck](https://cdn.shopify.com/s/files/1/1321/6369/products/DSCF1977_large.jpg?v=1506921493)</div>"
   ]
  },
  {
   "cell_type": "markdown",
   "metadata": {},
   "source": [
    "# Run scripts "
   ]
  },
  {
   "cell_type": "code",
   "execution_count": 13,
   "metadata": {},
   "outputs": [],
   "source": [
    "import super_cool_script\n",
    "import os \n",
    "\n",
    "def look_clever_as_hell():\n",
    "    print('Chose a file to run deep neural networks on the blockchain:')\n",
    "    for file in os.listdir('files'):\n",
    "        print(file)\n",
    "    answer = input('\\nFile: ')\n",
    "    \n",
    "    super_cool_script.run(answer)\n"
   ]
  },
  {
   "cell_type": "code",
   "execution_count": 14,
   "metadata": {},
   "outputs": [
    {
     "name": "stdout",
     "output_type": "stream",
     "text": [
      "Chose a file to run deep neural networks on the blockchain:\n",
      ".DS_Store\n",
      "dataset1.csv\n",
      "dataset2.csv\n",
      "dataset3.csv\n",
      "dataset4.csv\n",
      "dataset5.csv\n",
      "red-wine-dataset\n",
      "wineQualityReds.csv\n",
      "\n",
      "File: dataset1.csv\n",
      "\n",
      "Preparing to run the deep neural nets on the blockchain on dataset1.csv\n",
      "\n",
      "\n",
      "Fitting the Deep Neural Net...\n",
      "..................................................\n",
      "\n",
      "Fitting the even deeper neural network with RNNs...\n",
      "..................................................\n",
      "\n",
      "Printing the Smart Contract on the Blockchain...\n",
      "..........\n",
      "\n",
      "Waiting for the ink to dry...\n",
      "\n",
      "\n",
      "Complete. Damn that was impressive.\n"
     ]
    }
   ],
   "source": [
    "look_clever_as_hell()"
   ]
  },
  {
   "cell_type": "markdown",
   "metadata": {},
   "source": [
    "# Inspect functions "
   ]
  },
  {
   "cell_type": "code",
   "execution_count": 15,
   "metadata": {},
   "outputs": [],
   "source": [
    "super_cool_script??"
   ]
  },
  {
   "cell_type": "markdown",
   "metadata": {},
   "source": [
    "# List global variables by type "
   ]
  },
  {
   "cell_type": "code",
   "execution_count": 16,
   "metadata": {},
   "outputs": [],
   "source": [
    "duck = 'duck'\n",
    "nr_of_ducks = 35\n",
    "emotion = 'love'\n",
    "amount_of_love = 9000\n",
    "dog_to_duck_quality_ratio = 0.0001"
   ]
  },
  {
   "cell_type": "code",
   "execution_count": 17,
   "metadata": {},
   "outputs": [
    {
     "name": "stdout",
     "output_type": "stream",
     "text": [
      "dog_insult\t duck\t emotion\t \n"
     ]
    }
   ],
   "source": [
    "%who str"
   ]
  },
  {
   "cell_type": "code",
   "execution_count": 18,
   "metadata": {},
   "outputs": [
    {
     "name": "stdout",
     "output_type": "stream",
     "text": [
      "amount_of_love\t nr_of_ducks\t quick_maths\t \n"
     ]
    }
   ],
   "source": [
    "%who int"
   ]
  },
  {
   "cell_type": "code",
   "execution_count": 19,
   "metadata": {},
   "outputs": [
    {
     "name": "stdout",
     "output_type": "stream",
     "text": [
      "dog_to_duck_quality_ratio\t \n"
     ]
    }
   ],
   "source": [
    "%who float"
   ]
  },
  {
   "cell_type": "code",
   "execution_count": 22,
   "metadata": {},
   "outputs": [],
   "source": [
    "import pandas as pd "
   ]
  },
  {
   "cell_type": "code",
   "execution_count": 24,
   "metadata": {},
   "outputs": [],
   "source": [
    "q = pd.DataFrame()"
   ]
  },
  {
   "cell_type": "code",
   "execution_count": 27,
   "metadata": {},
   "outputs": [],
   "source": [
    "from pandas import DataFrame"
   ]
  },
  {
   "cell_type": "code",
   "execution_count": 28,
   "metadata": {},
   "outputs": [
    {
     "name": "stdout",
     "output_type": "stream",
     "text": [
      "q\t \n"
     ]
    }
   ],
   "source": [
    "%who DataFrame"
   ]
  },
  {
   "cell_type": "code",
   "execution_count": 21,
   "metadata": {},
   "outputs": [
    {
     "name": "stdout",
     "output_type": "stream",
     "text": [
      "Once deleted, variables cannot be recovered. Proceed (y/[n])? n\n",
      "Nothing done.\n"
     ]
    }
   ],
   "source": [
    "% reset"
   ]
  },
  {
   "cell_type": "code",
   "execution_count": 20,
   "metadata": {},
   "outputs": [],
   "source": [
    "def f(dukc):\n",
    "    print(duck)"
   ]
  },
  {
   "cell_type": "markdown",
   "metadata": {
    "slideshow": {
     "slide_type": "slide"
    }
   },
   "source": [
    "# Running functions in the notebook"
   ]
  },
  {
   "cell_type": "code",
   "execution_count": 29,
   "metadata": {
    "slideshow": {
     "slide_type": "subslide"
    }
   },
   "outputs": [],
   "source": [
    "from sklearn.tree import DecisionTreeClassifier\n",
    "from sklearn import tree\n",
    "import graphviz\n",
    "\n",
    "import pandas as pd \n",
    "% matplotlib inline \n",
    "from matplotlib import pyplot as plt "
   ]
  },
  {
   "cell_type": "code",
   "execution_count": 30,
   "metadata": {
    "slideshow": {
     "slide_type": "subslide"
    }
   },
   "outputs": [],
   "source": [
    "def get_wine_data():\n",
    "    data = pd.read_csv('files/wineQualityReds.csv')\n",
    "    features = ['alcohol', 'sulphates', 'volatile.acidity', 'total.sulfur.dioxide']\n",
    "    target = 'quality'\n",
    "    data[target] = data[target].map(lambda x: 1 if x >= data[target].median() else 0)\n",
    "    return data, features, target\n",
    "\n",
    "\n",
    "def explain_data(max_depth, min_impurity_split):\n",
    "    t = DecisionTreeClassifier(max_depth=max_depth, \n",
    "                               min_impurity_split=min_impurity_split)\n",
    "    \n",
    "    t.fit(data[features], data[target]);\n",
    "    dot_data = tree.export_graphviz(t, out_file=None, feature_names=features,  \n",
    "                             class_names=['Bad wine', 'Good Wine'], \n",
    "                             filled=True, rounded=True,  \n",
    "                             special_characters=True)\n",
    "    graph = graphviz.Source(dot_data)  \n",
    "    return graph "
   ]
  },
  {
   "cell_type": "code",
   "execution_count": 31,
   "metadata": {
    "slideshow": {
     "slide_type": "skip"
    }
   },
   "outputs": [
    {
     "data": {
      "image/svg+xml": [
       "<?xml version=\"1.0\" encoding=\"UTF-8\" standalone=\"no\"?>\n",
       "<!DOCTYPE svg PUBLIC \"-//W3C//DTD SVG 1.1//EN\"\n",
       " \"http://www.w3.org/Graphics/SVG/1.1/DTD/svg11.dtd\">\n",
       "<!-- Generated by graphviz version 2.40.1 (20161225.0304)\n",
       " -->\n",
       "<!-- Title: Tree Pages: 1 -->\n",
       "<svg width=\"858pt\" height=\"414pt\"\n",
       " viewBox=\"0.00 0.00 857.67 414.00\" xmlns=\"http://www.w3.org/2000/svg\" xmlns:xlink=\"http://www.w3.org/1999/xlink\">\n",
       "<g id=\"graph0\" class=\"graph\" transform=\"scale(1 1) rotate(0) translate(4 410)\">\n",
       "<title>Tree</title>\n",
       "<polygon fill=\"#ffffff\" stroke=\"transparent\" points=\"-4,4 -4,-410 853.665,-410 853.665,4 -4,4\"/>\n",
       "<!-- 0 -->\n",
       "<g id=\"node1\" class=\"node\">\n",
       "<title>0</title>\n",
       "<path fill=\"#399de5\" fill-opacity=\"0.129412\" stroke=\"#000000\" d=\"M552.608,-406C552.608,-406 442.8364,-406 442.8364,-406 436.8364,-406 430.8364,-400 430.8364,-394 430.8364,-394 430.8364,-340 430.8364,-340 430.8364,-334 436.8364,-328 442.8364,-328 442.8364,-328 552.608,-328 552.608,-328 558.608,-328 564.608,-334 564.608,-340 564.608,-340 564.608,-394 564.608,-394 564.608,-400 558.608,-406 552.608,-406\"/>\n",
       "<text text-anchor=\"start\" x=\"450.291\" y=\"-390.8\" font-family=\"Helvetica,sans-Serif\" font-size=\"14.00\" fill=\"#000000\">alcohol ≤ 10.25</text>\n",
       "<text text-anchor=\"start\" x=\"457.438\" y=\"-376.8\" font-family=\"Helvetica,sans-Serif\" font-size=\"14.00\" fill=\"#000000\">gini = 0.4976</text>\n",
       "<text text-anchor=\"start\" x=\"448.1069\" y=\"-362.8\" font-family=\"Helvetica,sans-Serif\" font-size=\"14.00\" fill=\"#000000\">samples = 1599</text>\n",
       "<text text-anchor=\"start\" x=\"441.8726\" y=\"-348.8\" font-family=\"Helvetica,sans-Serif\" font-size=\"14.00\" fill=\"#000000\">value = [744, 855]</text>\n",
       "<text text-anchor=\"start\" x=\"438.7793\" y=\"-334.8\" font-family=\"Helvetica,sans-Serif\" font-size=\"14.00\" fill=\"#000000\">class = Good Wine</text>\n",
       "</g>\n",
       "<!-- 1 -->\n",
       "<g id=\"node2\" class=\"node\">\n",
       "<title>1</title>\n",
       "<path fill=\"#e58139\" fill-opacity=\"0.482353\" stroke=\"#000000\" d=\"M464.4217,-292C464.4217,-292 361.0226,-292 361.0226,-292 355.0226,-292 349.0226,-286 349.0226,-280 349.0226,-280 349.0226,-226 349.0226,-226 349.0226,-220 355.0226,-214 361.0226,-214 361.0226,-214 464.4217,-214 464.4217,-214 470.4217,-214 476.4217,-220 476.4217,-226 476.4217,-226 476.4217,-280 476.4217,-280 476.4217,-286 470.4217,-292 464.4217,-292\"/>\n",
       "<text text-anchor=\"start\" x=\"357.5083\" y=\"-276.8\" font-family=\"Helvetica,sans-Serif\" font-size=\"14.00\" fill=\"#000000\">sulphates ≤ 0.575</text>\n",
       "<text text-anchor=\"start\" x=\"372.438\" y=\"-262.8\" font-family=\"Helvetica,sans-Serif\" font-size=\"14.00\" fill=\"#000000\">gini = 0.4493</text>\n",
       "<text text-anchor=\"start\" x=\"367\" y=\"-248.8\" font-family=\"Helvetica,sans-Serif\" font-size=\"14.00\" fill=\"#000000\">samples = 842</text>\n",
       "<text text-anchor=\"start\" x=\"356.8726\" y=\"-234.8\" font-family=\"Helvetica,sans-Serif\" font-size=\"14.00\" fill=\"#000000\">value = [555, 287]</text>\n",
       "<text text-anchor=\"start\" x=\"360\" y=\"-220.8\" font-family=\"Helvetica,sans-Serif\" font-size=\"14.00\" fill=\"#000000\">class = Bad wine</text>\n",
       "</g>\n",
       "<!-- 0&#45;&gt;1 -->\n",
       "<g id=\"edge1\" class=\"edge\">\n",
       "<title>0&#45;&gt;1</title>\n",
       "<path fill=\"none\" stroke=\"#000000\" d=\"M468.47,-327.7677C461.9254,-318.9903 454.9152,-309.5883 448.1509,-300.5161\"/>\n",
       "<polygon fill=\"#000000\" stroke=\"#000000\" points=\"450.8117,-298.2294 442.0283,-292.3046 445.1999,-302.4136 450.8117,-298.2294\"/>\n",
       "<text text-anchor=\"middle\" x=\"438.4231\" y=\"-312.8433\" font-family=\"Helvetica,sans-Serif\" font-size=\"14.00\" fill=\"#000000\">True</text>\n",
       "</g>\n",
       "<!-- 8 -->\n",
       "<g id=\"node9\" class=\"node\">\n",
       "<title>8</title>\n",
       "<path fill=\"#399de5\" fill-opacity=\"0.666667\" stroke=\"#000000\" d=\"M685.608,-292C685.608,-292 575.8364,-292 575.8364,-292 569.8364,-292 563.8364,-286 563.8364,-280 563.8364,-280 563.8364,-226 563.8364,-226 563.8364,-220 569.8364,-214 575.8364,-214 575.8364,-214 685.608,-214 685.608,-214 691.608,-214 697.608,-220 697.608,-226 697.608,-226 697.608,-280 697.608,-280 697.608,-286 691.608,-292 685.608,-292\"/>\n",
       "<text text-anchor=\"start\" x=\"583.8071\" y=\"-276.8\" font-family=\"Helvetica,sans-Serif\" font-size=\"14.00\" fill=\"#000000\">alcohol ≤ 11.45</text>\n",
       "<text text-anchor=\"start\" x=\"590.438\" y=\"-262.8\" font-family=\"Helvetica,sans-Serif\" font-size=\"14.00\" fill=\"#000000\">gini = 0.3747</text>\n",
       "<text text-anchor=\"start\" x=\"585\" y=\"-248.8\" font-family=\"Helvetica,sans-Serif\" font-size=\"14.00\" fill=\"#000000\">samples = 757</text>\n",
       "<text text-anchor=\"start\" x=\"574.8726\" y=\"-234.8\" font-family=\"Helvetica,sans-Serif\" font-size=\"14.00\" fill=\"#000000\">value = [189, 568]</text>\n",
       "<text text-anchor=\"start\" x=\"571.7793\" y=\"-220.8\" font-family=\"Helvetica,sans-Serif\" font-size=\"14.00\" fill=\"#000000\">class = Good Wine</text>\n",
       "</g>\n",
       "<!-- 0&#45;&gt;8 -->\n",
       "<g id=\"edge8\" class=\"edge\">\n",
       "<title>0&#45;&gt;8</title>\n",
       "<path fill=\"none\" stroke=\"#000000\" d=\"M543.4932,-327.7677C554.3605,-318.4529 566.0483,-308.4347 577.2261,-298.8538\"/>\n",
       "<polygon fill=\"#000000\" stroke=\"#000000\" points=\"579.5519,-301.47 584.8667,-292.3046 574.9964,-296.1552 579.5519,-301.47\"/>\n",
       "<text text-anchor=\"middle\" x=\"582.9493\" y=\"-313.031\" font-family=\"Helvetica,sans-Serif\" font-size=\"14.00\" fill=\"#000000\">False</text>\n",
       "</g>\n",
       "<!-- 2 -->\n",
       "<g id=\"node3\" class=\"node\">\n",
       "<title>2</title>\n",
       "<path fill=\"#e58139\" fill-opacity=\"0.760784\" stroke=\"#000000\" d=\"M248.6673,-178C248.6673,-178 150.777,-178 150.777,-178 144.777,-178 138.777,-172 138.777,-166 138.777,-166 138.777,-112 138.777,-112 138.777,-106 144.777,-100 150.777,-100 150.777,-100 248.6673,-100 248.6673,-100 254.6673,-100 260.6673,-106 260.6673,-112 260.6673,-112 260.6673,-166 260.6673,-166 260.6673,-172 254.6673,-178 248.6673,-178\"/>\n",
       "<text text-anchor=\"start\" x=\"156.1841\" y=\"-162.8\" font-family=\"Helvetica,sans-Serif\" font-size=\"14.00\" fill=\"#000000\">alcohol ≤ 9.75</text>\n",
       "<text text-anchor=\"start\" x=\"160.4702\" y=\"-148.8\" font-family=\"Helvetica,sans-Serif\" font-size=\"14.00\" fill=\"#000000\">gini = 0.3111</text>\n",
       "<text text-anchor=\"start\" x=\"154\" y=\"-134.8\" font-family=\"Helvetica,sans-Serif\" font-size=\"14.00\" fill=\"#000000\">samples = 353</text>\n",
       "<text text-anchor=\"start\" x=\"147.7656\" y=\"-120.8\" font-family=\"Helvetica,sans-Serif\" font-size=\"14.00\" fill=\"#000000\">value = [285, 68]</text>\n",
       "<text text-anchor=\"start\" x=\"147\" y=\"-106.8\" font-family=\"Helvetica,sans-Serif\" font-size=\"14.00\" fill=\"#000000\">class = Bad wine</text>\n",
       "</g>\n",
       "<!-- 1&#45;&gt;2 -->\n",
       "<g id=\"edge2\" class=\"edge\">\n",
       "<title>1&#45;&gt;2</title>\n",
       "<path fill=\"none\" stroke=\"#000000\" d=\"M348.8151,-218.7962C323.8227,-205.42 295.0836,-190.0385 269.5485,-176.3718\"/>\n",
       "<polygon fill=\"#000000\" stroke=\"#000000\" points=\"271.1296,-173.2483 260.6614,-171.6154 267.8265,-179.42 271.1296,-173.2483\"/>\n",
       "</g>\n",
       "<!-- 5 -->\n",
       "<g id=\"node6\" class=\"node\">\n",
       "<title>5</title>\n",
       "<path fill=\"#e58139\" fill-opacity=\"0.188235\" stroke=\"#000000\" d=\"M486.0084,-178C486.0084,-178 339.4359,-178 339.4359,-178 333.4359,-178 327.4359,-172 327.4359,-166 327.4359,-166 327.4359,-112 327.4359,-112 327.4359,-106 333.4359,-100 339.4359,-100 339.4359,-100 486.0084,-100 486.0084,-100 492.0084,-100 498.0084,-106 498.0084,-112 498.0084,-112 498.0084,-166 498.0084,-166 498.0084,-172 492.0084,-178 486.0084,-178\"/>\n",
       "<text text-anchor=\"start\" x=\"335.3291\" y=\"-162.8\" font-family=\"Helvetica,sans-Serif\" font-size=\"14.00\" fill=\"#000000\">total.sulfur.dioxide ≤ 50.5</text>\n",
       "<text text-anchor=\"start\" x=\"372.438\" y=\"-148.8\" font-family=\"Helvetica,sans-Serif\" font-size=\"14.00\" fill=\"#000000\">gini = 0.4946</text>\n",
       "<text text-anchor=\"start\" x=\"367\" y=\"-134.8\" font-family=\"Helvetica,sans-Serif\" font-size=\"14.00\" fill=\"#000000\">samples = 489</text>\n",
       "<text text-anchor=\"start\" x=\"356.8726\" y=\"-120.8\" font-family=\"Helvetica,sans-Serif\" font-size=\"14.00\" fill=\"#000000\">value = [270, 219]</text>\n",
       "<text text-anchor=\"start\" x=\"360\" y=\"-106.8\" font-family=\"Helvetica,sans-Serif\" font-size=\"14.00\" fill=\"#000000\">class = Bad wine</text>\n",
       "</g>\n",
       "<!-- 1&#45;&gt;5 -->\n",
       "<g id=\"edge5\" class=\"edge\">\n",
       "<title>1&#45;&gt;5</title>\n",
       "<path fill=\"none\" stroke=\"#000000\" d=\"M412.7222,-213.7677C412.7222,-205.6172 412.7222,-196.9283 412.7222,-188.4649\"/>\n",
       "<polygon fill=\"#000000\" stroke=\"#000000\" points=\"416.2223,-188.3046 412.7222,-178.3046 409.2223,-188.3047 416.2223,-188.3046\"/>\n",
       "</g>\n",
       "<!-- 3 -->\n",
       "<g id=\"node4\" class=\"node\">\n",
       "<title>3</title>\n",
       "<path fill=\"#e58139\" fill-opacity=\"0.831373\" stroke=\"#000000\" d=\"M109.6673,-64C109.6673,-64 11.777,-64 11.777,-64 5.777,-64 -.223,-58 -.223,-52 -.223,-52 -.223,-12 -.223,-12 -.223,-6 5.777,0 11.777,0 11.777,0 109.6673,0 109.6673,0 115.6673,0 121.6673,-6 121.6673,-12 121.6673,-12 121.6673,-52 121.6673,-52 121.6673,-58 115.6673,-64 109.6673,-64\"/>\n",
       "<text text-anchor=\"start\" x=\"20.438\" y=\"-48.8\" font-family=\"Helvetica,sans-Serif\" font-size=\"14.00\" fill=\"#000000\">gini = 0.2457</text>\n",
       "<text text-anchor=\"start\" x=\"15\" y=\"-34.8\" font-family=\"Helvetica,sans-Serif\" font-size=\"14.00\" fill=\"#000000\">samples = 244</text>\n",
       "<text text-anchor=\"start\" x=\"8.7656\" y=\"-20.8\" font-family=\"Helvetica,sans-Serif\" font-size=\"14.00\" fill=\"#000000\">value = [209, 35]</text>\n",
       "<text text-anchor=\"start\" x=\"8\" y=\"-6.8\" font-family=\"Helvetica,sans-Serif\" font-size=\"14.00\" fill=\"#000000\">class = Bad wine</text>\n",
       "</g>\n",
       "<!-- 2&#45;&gt;3 -->\n",
       "<g id=\"edge3\" class=\"edge\">\n",
       "<title>2&#45;&gt;3</title>\n",
       "<path fill=\"none\" stroke=\"#000000\" d=\"M148.753,-99.7647C136.2954,-90.1751 122.9809,-79.9258 110.5762,-70.3768\"/>\n",
       "<polygon fill=\"#000000\" stroke=\"#000000\" points=\"112.6331,-67.5433 102.574,-64.2169 108.3632,-73.0902 112.6331,-67.5433\"/>\n",
       "</g>\n",
       "<!-- 4 -->\n",
       "<g id=\"node5\" class=\"node\">\n",
       "<title>4</title>\n",
       "<path fill=\"#e58139\" fill-opacity=\"0.564706\" stroke=\"#000000\" d=\"M248.6673,-64C248.6673,-64 150.777,-64 150.777,-64 144.777,-64 138.777,-58 138.777,-52 138.777,-52 138.777,-12 138.777,-12 138.777,-6 144.777,0 150.777,0 150.777,0 248.6673,0 248.6673,0 254.6673,0 260.6673,-6 260.6673,-12 260.6673,-12 260.6673,-52 260.6673,-52 260.6673,-58 254.6673,-64 248.6673,-64\"/>\n",
       "<text text-anchor=\"start\" x=\"159.438\" y=\"-48.8\" font-family=\"Helvetica,sans-Serif\" font-size=\"14.00\" fill=\"#000000\">gini = 0.4222</text>\n",
       "<text text-anchor=\"start\" x=\"154\" y=\"-34.8\" font-family=\"Helvetica,sans-Serif\" font-size=\"14.00\" fill=\"#000000\">samples = 109</text>\n",
       "<text text-anchor=\"start\" x=\"151.6587\" y=\"-20.8\" font-family=\"Helvetica,sans-Serif\" font-size=\"14.00\" fill=\"#000000\">value = [76, 33]</text>\n",
       "<text text-anchor=\"start\" x=\"147\" y=\"-6.8\" font-family=\"Helvetica,sans-Serif\" font-size=\"14.00\" fill=\"#000000\">class = Bad wine</text>\n",
       "</g>\n",
       "<!-- 2&#45;&gt;4 -->\n",
       "<g id=\"edge4\" class=\"edge\">\n",
       "<title>2&#45;&gt;4</title>\n",
       "<path fill=\"none\" stroke=\"#000000\" d=\"M199.7222,-99.7647C199.7222,-91.4537 199.7222,-82.6472 199.7222,-74.2305\"/>\n",
       "<polygon fill=\"#000000\" stroke=\"#000000\" points=\"203.2223,-74.2168 199.7222,-64.2169 196.2223,-74.2169 203.2223,-74.2168\"/>\n",
       "</g>\n",
       "<!-- 6 -->\n",
       "<g id=\"node7\" class=\"node\">\n",
       "<title>6</title>\n",
       "<path fill=\"#399de5\" fill-opacity=\"0.231373\" stroke=\"#000000\" d=\"M400.608,-64C400.608,-64 290.8364,-64 290.8364,-64 284.8364,-64 278.8364,-58 278.8364,-52 278.8364,-52 278.8364,-12 278.8364,-12 278.8364,-6 284.8364,0 290.8364,0 290.8364,0 400.608,0 400.608,0 406.608,0 412.608,-6 412.608,-12 412.608,-12 412.608,-52 412.608,-52 412.608,-58 406.608,-64 400.608,-64\"/>\n",
       "<text text-anchor=\"start\" x=\"305.438\" y=\"-48.8\" font-family=\"Helvetica,sans-Serif\" font-size=\"14.00\" fill=\"#000000\">gini = 0.4916</text>\n",
       "<text text-anchor=\"start\" x=\"300\" y=\"-34.8\" font-family=\"Helvetica,sans-Serif\" font-size=\"14.00\" fill=\"#000000\">samples = 285</text>\n",
       "<text text-anchor=\"start\" x=\"289.8726\" y=\"-20.8\" font-family=\"Helvetica,sans-Serif\" font-size=\"14.00\" fill=\"#000000\">value = [124, 161]</text>\n",
       "<text text-anchor=\"start\" x=\"286.7793\" y=\"-6.8\" font-family=\"Helvetica,sans-Serif\" font-size=\"14.00\" fill=\"#000000\">class = Good Wine</text>\n",
       "</g>\n",
       "<!-- 5&#45;&gt;6 -->\n",
       "<g id=\"edge6\" class=\"edge\">\n",
       "<title>5&#45;&gt;6</title>\n",
       "<path fill=\"none\" stroke=\"#000000\" d=\"M388.1543,-99.7647C382.6642,-90.9971 376.8289,-81.678 371.2992,-72.8469\"/>\n",
       "<polygon fill=\"#000000\" stroke=\"#000000\" points=\"374.1689,-70.8349 365.8954,-64.2169 368.2361,-74.5499 374.1689,-70.8349\"/>\n",
       "</g>\n",
       "<!-- 7 -->\n",
       "<g id=\"node8\" class=\"node\">\n",
       "<title>7</title>\n",
       "<path fill=\"#e58139\" fill-opacity=\"0.603922\" stroke=\"#000000\" d=\"M540.6673,-64C540.6673,-64 442.777,-64 442.777,-64 436.777,-64 430.777,-58 430.777,-52 430.777,-52 430.777,-12 430.777,-12 430.777,-6 436.777,0 442.777,0 442.777,0 540.6673,0 540.6673,0 546.6673,0 552.6673,-6 552.6673,-12 552.6673,-12 552.6673,-52 552.6673,-52 552.6673,-58 546.6673,-64 540.6673,-64\"/>\n",
       "<text text-anchor=\"start\" x=\"455.3311\" y=\"-48.8\" font-family=\"Helvetica,sans-Serif\" font-size=\"14.00\" fill=\"#000000\">gini = 0.407</text>\n",
       "<text text-anchor=\"start\" x=\"446\" y=\"-34.8\" font-family=\"Helvetica,sans-Serif\" font-size=\"14.00\" fill=\"#000000\">samples = 204</text>\n",
       "<text text-anchor=\"start\" x=\"439.7656\" y=\"-20.8\" font-family=\"Helvetica,sans-Serif\" font-size=\"14.00\" fill=\"#000000\">value = [146, 58]</text>\n",
       "<text text-anchor=\"start\" x=\"439\" y=\"-6.8\" font-family=\"Helvetica,sans-Serif\" font-size=\"14.00\" fill=\"#000000\">class = Bad wine</text>\n",
       "</g>\n",
       "<!-- 5&#45;&gt;7 -->\n",
       "<g id=\"edge7\" class=\"edge\">\n",
       "<title>5&#45;&gt;7</title>\n",
       "<path fill=\"none\" stroke=\"#000000\" d=\"M441.6903,-99.7647C448.2985,-90.8144 455.3309,-81.2894 461.9712,-72.2955\"/>\n",
       "<polygon fill=\"#000000\" stroke=\"#000000\" points=\"464.8119,-74.3407 467.9359,-64.2169 459.1804,-70.1829 464.8119,-74.3407\"/>\n",
       "</g>\n",
       "<!-- 9 -->\n",
       "<g id=\"node10\" class=\"node\">\n",
       "<title>9</title>\n",
       "<path fill=\"#399de5\" fill-opacity=\"0.482353\" stroke=\"#000000\" d=\"M685.608,-178C685.608,-178 575.8364,-178 575.8364,-178 569.8364,-178 563.8364,-172 563.8364,-166 563.8364,-166 563.8364,-112 563.8364,-112 563.8364,-106 569.8364,-100 575.8364,-100 575.8364,-100 685.608,-100 685.608,-100 691.608,-100 697.608,-106 697.608,-112 697.608,-112 697.608,-166 697.608,-166 697.608,-172 691.608,-178 685.608,-178\"/>\n",
       "<text text-anchor=\"start\" x=\"575.5083\" y=\"-162.8\" font-family=\"Helvetica,sans-Serif\" font-size=\"14.00\" fill=\"#000000\">sulphates ≤ 0.585</text>\n",
       "<text text-anchor=\"start\" x=\"590.438\" y=\"-148.8\" font-family=\"Helvetica,sans-Serif\" font-size=\"14.00\" fill=\"#000000\">gini = 0.4499</text>\n",
       "<text text-anchor=\"start\" x=\"585\" y=\"-134.8\" font-family=\"Helvetica,sans-Serif\" font-size=\"14.00\" fill=\"#000000\">samples = 477</text>\n",
       "<text text-anchor=\"start\" x=\"574.8726\" y=\"-120.8\" font-family=\"Helvetica,sans-Serif\" font-size=\"14.00\" fill=\"#000000\">value = [163, 314]</text>\n",
       "<text text-anchor=\"start\" x=\"571.7793\" y=\"-106.8\" font-family=\"Helvetica,sans-Serif\" font-size=\"14.00\" fill=\"#000000\">class = Good Wine</text>\n",
       "</g>\n",
       "<!-- 8&#45;&gt;9 -->\n",
       "<g id=\"edge9\" class=\"edge\">\n",
       "<title>8&#45;&gt;9</title>\n",
       "<path fill=\"none\" stroke=\"#000000\" d=\"M630.7222,-213.7677C630.7222,-205.6172 630.7222,-196.9283 630.7222,-188.4649\"/>\n",
       "<polygon fill=\"#000000\" stroke=\"#000000\" points=\"634.2223,-188.3046 630.7222,-178.3046 627.2223,-188.3047 634.2223,-188.3046\"/>\n",
       "</g>\n",
       "<!-- 12 -->\n",
       "<g id=\"node13\" class=\"node\">\n",
       "<title>12</title>\n",
       "<path fill=\"#399de5\" fill-opacity=\"0.898039\" stroke=\"#000000\" d=\"M837.608,-171C837.608,-171 727.8364,-171 727.8364,-171 721.8364,-171 715.8364,-165 715.8364,-159 715.8364,-159 715.8364,-119 715.8364,-119 715.8364,-113 721.8364,-107 727.8364,-107 727.8364,-107 837.608,-107 837.608,-107 843.608,-107 849.608,-113 849.608,-119 849.608,-119 849.608,-159 849.608,-159 849.608,-165 843.608,-171 837.608,-171\"/>\n",
       "<text text-anchor=\"start\" x=\"742.438\" y=\"-155.8\" font-family=\"Helvetica,sans-Serif\" font-size=\"14.00\" fill=\"#000000\">gini = 0.1685</text>\n",
       "<text text-anchor=\"start\" x=\"737\" y=\"-141.8\" font-family=\"Helvetica,sans-Serif\" font-size=\"14.00\" fill=\"#000000\">samples = 280</text>\n",
       "<text text-anchor=\"start\" x=\"730.7656\" y=\"-127.8\" font-family=\"Helvetica,sans-Serif\" font-size=\"14.00\" fill=\"#000000\">value = [26, 254]</text>\n",
       "<text text-anchor=\"start\" x=\"723.7793\" y=\"-113.8\" font-family=\"Helvetica,sans-Serif\" font-size=\"14.00\" fill=\"#000000\">class = Good Wine</text>\n",
       "</g>\n",
       "<!-- 8&#45;&gt;12 -->\n",
       "<g id=\"edge12\" class=\"edge\">\n",
       "<title>8&#45;&gt;12</title>\n",
       "<path fill=\"none\" stroke=\"#000000\" d=\"M683.0319,-213.7677C698.8276,-201.9209 716.1403,-188.9364 731.8414,-177.1606\"/>\n",
       "<polygon fill=\"#000000\" stroke=\"#000000\" points=\"733.9886,-179.9252 739.8886,-171.1252 729.7885,-174.3252 733.9886,-179.9252\"/>\n",
       "</g>\n",
       "<!-- 10 -->\n",
       "<g id=\"node11\" class=\"node\">\n",
       "<title>10</title>\n",
       "<path fill=\"#e58139\" fill-opacity=\"0.258824\" stroke=\"#000000\" d=\"M679.6673,-64C679.6673,-64 581.777,-64 581.777,-64 575.777,-64 569.777,-58 569.777,-52 569.777,-52 569.777,-12 569.777,-12 569.777,-6 575.777,0 581.777,0 581.777,0 679.6673,0 679.6673,0 685.6673,0 691.6673,-6 691.6673,-12 691.6673,-12 691.6673,-52 691.6673,-52 691.6673,-58 685.6673,-64 679.6673,-64\"/>\n",
       "<text text-anchor=\"start\" x=\"590.438\" y=\"-48.8\" font-family=\"Helvetica,sans-Serif\" font-size=\"14.00\" fill=\"#000000\">gini = 0.4889</text>\n",
       "<text text-anchor=\"start\" x=\"585\" y=\"-34.8\" font-family=\"Helvetica,sans-Serif\" font-size=\"14.00\" fill=\"#000000\">samples = 134</text>\n",
       "<text text-anchor=\"start\" x=\"582.6587\" y=\"-20.8\" font-family=\"Helvetica,sans-Serif\" font-size=\"14.00\" fill=\"#000000\">value = [77, 57]</text>\n",
       "<text text-anchor=\"start\" x=\"578\" y=\"-6.8\" font-family=\"Helvetica,sans-Serif\" font-size=\"14.00\" fill=\"#000000\">class = Bad wine</text>\n",
       "</g>\n",
       "<!-- 9&#45;&gt;10 -->\n",
       "<g id=\"edge10\" class=\"edge\">\n",
       "<title>9&#45;&gt;10</title>\n",
       "<path fill=\"none\" stroke=\"#000000\" d=\"M630.7222,-99.7647C630.7222,-91.4537 630.7222,-82.6472 630.7222,-74.2305\"/>\n",
       "<polygon fill=\"#000000\" stroke=\"#000000\" points=\"634.2223,-74.2168 630.7222,-64.2169 627.2223,-74.2169 634.2223,-74.2168\"/>\n",
       "</g>\n",
       "<!-- 11 -->\n",
       "<g id=\"node12\" class=\"node\">\n",
       "<title>11</title>\n",
       "<path fill=\"#399de5\" fill-opacity=\"0.666667\" stroke=\"#000000\" d=\"M831.608,-64C831.608,-64 721.8364,-64 721.8364,-64 715.8364,-64 709.8364,-58 709.8364,-52 709.8364,-52 709.8364,-12 709.8364,-12 709.8364,-6 715.8364,0 721.8364,0 721.8364,0 831.608,0 831.608,0 837.608,0 843.608,-6 843.608,-12 843.608,-12 843.608,-52 843.608,-52 843.608,-58 837.608,-64 831.608,-64\"/>\n",
       "<text text-anchor=\"start\" x=\"736.438\" y=\"-48.8\" font-family=\"Helvetica,sans-Serif\" font-size=\"14.00\" fill=\"#000000\">gini = 0.3757</text>\n",
       "<text text-anchor=\"start\" x=\"731\" y=\"-34.8\" font-family=\"Helvetica,sans-Serif\" font-size=\"14.00\" fill=\"#000000\">samples = 343</text>\n",
       "<text text-anchor=\"start\" x=\"724.7656\" y=\"-20.8\" font-family=\"Helvetica,sans-Serif\" font-size=\"14.00\" fill=\"#000000\">value = [86, 257]</text>\n",
       "<text text-anchor=\"start\" x=\"717.7793\" y=\"-6.8\" font-family=\"Helvetica,sans-Serif\" font-size=\"14.00\" fill=\"#000000\">class = Good Wine</text>\n",
       "</g>\n",
       "<!-- 9&#45;&gt;11 -->\n",
       "<g id=\"edge11\" class=\"edge\">\n",
       "<title>9&#45;&gt;11</title>\n",
       "<path fill=\"none\" stroke=\"#000000\" d=\"M684.2581,-99.7647C697.3431,-90.1751 711.3281,-79.9258 724.3575,-70.3768\"/>\n",
       "<polygon fill=\"#000000\" stroke=\"#000000\" points=\"726.7658,-72.9512 732.7627,-64.2169 722.6279,-67.3051 726.7658,-72.9512\"/>\n",
       "</g>\n",
       "</g>\n",
       "</svg>\n"
      ],
      "text/plain": [
       "<graphviz.files.Source at 0x10a5cf358>"
      ]
     },
     "execution_count": 31,
     "metadata": {},
     "output_type": "execute_result"
    }
   ],
   "source": [
    "data, features, target = get_wine_data()\n",
    "explain_data(max_depth=3, \n",
    "             min_impurity_split=.2)   # <-- Notice that it remembered the global variables "
   ]
  },
  {
   "cell_type": "markdown",
   "metadata": {
    "slideshow": {
     "slide_type": "skip"
    }
   },
   "source": [
    "# Interact "
   ]
  },
  {
   "cell_type": "markdown",
   "metadata": {
    "slideshow": {
     "slide_type": "skip"
    }
   },
   "source": [
    "If you haven't done it before, you might need to run the following on a console:  \n",
    "> pip install ipywidgets  \n",
    "> jupyter nbextension enable --py widgetsnbextension  \n",
    "\n",
    "Then re-launch your notebook.  "
   ]
  },
  {
   "cell_type": "code",
   "execution_count": 32,
   "metadata": {
    "slideshow": {
     "slide_type": "skip"
    }
   },
   "outputs": [],
   "source": [
    "from ipywidgets import interact"
   ]
  },
  {
   "cell_type": "code",
   "execution_count": 33,
   "metadata": {
    "slideshow": {
     "slide_type": "skip"
    }
   },
   "outputs": [],
   "source": [
    "def a_power_b(a, b): \n",
    "    return a ** b"
   ]
  },
  {
   "cell_type": "code",
   "execution_count": 34,
   "metadata": {
    "slideshow": {
     "slide_type": "skip"
    }
   },
   "outputs": [
    {
     "data": {
      "application/vnd.jupyter.widget-view+json": {
       "model_id": "dbd4fbe709614cb5b5076799bcf839de",
       "version_major": 2,
       "version_minor": 0
      },
      "text/html": [
       "<p>Failed to display Jupyter Widget of type <code>interactive</code>.</p>\n",
       "<p>\n",
       "  If you're reading this message in Jupyter Notebook or JupyterLab, it may mean\n",
       "  that the widgets JavaScript is still loading. If this message persists, it\n",
       "  likely means that the widgets JavaScript library is either not installed or\n",
       "  not enabled. See the <a href=\"https://ipywidgets.readthedocs.io/en/stable/user_install.html\">Jupyter\n",
       "  Widgets Documentation</a> for setup instructions.\n",
       "</p>\n",
       "<p>\n",
       "  If you're reading this message in another notebook frontend (for example, a static\n",
       "  rendering on GitHub or <a href=\"https://nbviewer.jupyter.org/\">NBViewer</a>),\n",
       "  it may mean that your frontend doesn't currently support widgets.\n",
       "</p>\n"
      ],
      "text/plain": [
       "interactive(children=(IntSlider(value=5, description='a', max=10), IntSlider(value=5, description='b', max=7, min=4), Output()), _dom_classes=('widget-interact',))"
      ]
     },
     "metadata": {},
     "output_type": "display_data"
    },
    {
     "data": {
      "text/plain": [
       "<function __main__.a_power_b>"
      ]
     },
     "execution_count": 34,
     "metadata": {},
     "output_type": "execute_result"
    }
   ],
   "source": [
    "interact(a_power_b, a=(0, 10, 1), b=(4, 7, 1))"
   ]
  },
  {
   "cell_type": "markdown",
   "metadata": {
    "slideshow": {
     "slide_type": "skip"
    }
   },
   "source": [
    "Boring... "
   ]
  },
  {
   "cell_type": "code",
   "execution_count": 35,
   "metadata": {
    "slideshow": {
     "slide_type": "skip"
    }
   },
   "outputs": [],
   "source": [
    "import numpy as np"
   ]
  },
  {
   "cell_type": "code",
   "execution_count": 36,
   "metadata": {
    "slideshow": {
     "slide_type": "skip"
    }
   },
   "outputs": [
    {
     "data": {
      "application/vnd.jupyter.widget-view+json": {
       "model_id": "aed45aefb580453faf2e2fff39a87a86",
       "version_major": 2,
       "version_minor": 0
      },
      "text/html": [
       "<p>Failed to display Jupyter Widget of type <code>interactive</code>.</p>\n",
       "<p>\n",
       "  If you're reading this message in Jupyter Notebook or JupyterLab, it may mean\n",
       "  that the widgets JavaScript is still loading. If this message persists, it\n",
       "  likely means that the widgets JavaScript library is either not installed or\n",
       "  not enabled. See the <a href=\"https://ipywidgets.readthedocs.io/en/stable/user_install.html\">Jupyter\n",
       "  Widgets Documentation</a> for setup instructions.\n",
       "</p>\n",
       "<p>\n",
       "  If you're reading this message in another notebook frontend (for example, a static\n",
       "  rendering on GitHub or <a href=\"https://nbviewer.jupyter.org/\">NBViewer</a>),\n",
       "  it may mean that your frontend doesn't currently support widgets.\n",
       "</p>\n"
      ],
      "text/plain": [
       "interactive(children=(FloatSlider(value=5.5, description='x', max=10.0, min=1.0, step=0.01), IntSlider(value=0, description='y', max=2, min=-2), Output()), _dom_classes=('widget-interact',))"
      ]
     },
     "metadata": {},
     "output_type": "display_data"
    },
    {
     "data": {
      "text/plain": [
       "<function __main__.plot_sin>"
      ]
     },
     "execution_count": 36,
     "metadata": {},
     "output_type": "execute_result"
    }
   ],
   "source": [
    "def plot_sin(x, y):\n",
    "    t=np.linspace(0.0, 1.0, 100)\n",
    "    plt.plot(t, np.sin(2* 3.14 * t * x) + y)\n",
    "    plt.ylim=(-3 ,3)\n",
    "    plt.show()\n",
    "    \n",
    "interact(plot_sin, x=(1.0, 10.0, .01), y=(-2, 2))"
   ]
  },
  {
   "cell_type": "markdown",
   "metadata": {
    "slideshow": {
     "slide_type": "slide"
    }
   },
   "source": [
    "# This is your Dataset, Mr. Riskman."
   ]
  },
  {
   "cell_type": "code",
   "execution_count": 37,
   "metadata": {
    "slideshow": {
     "slide_type": "fragment"
    }
   },
   "outputs": [
    {
     "data": {
      "application/vnd.jupyter.widget-view+json": {
       "model_id": "f9d9b4a875854e4b8db4630a859d3749",
       "version_major": 2,
       "version_minor": 0
      },
      "text/html": [
       "<p>Failed to display Jupyter Widget of type <code>interactive</code>.</p>\n",
       "<p>\n",
       "  If you're reading this message in Jupyter Notebook or JupyterLab, it may mean\n",
       "  that the widgets JavaScript is still loading. If this message persists, it\n",
       "  likely means that the widgets JavaScript library is either not installed or\n",
       "  not enabled. See the <a href=\"https://ipywidgets.readthedocs.io/en/stable/user_install.html\">Jupyter\n",
       "  Widgets Documentation</a> for setup instructions.\n",
       "</p>\n",
       "<p>\n",
       "  If you're reading this message in another notebook frontend (for example, a static\n",
       "  rendering on GitHub or <a href=\"https://nbviewer.jupyter.org/\">NBViewer</a>),\n",
       "  it may mean that your frontend doesn't currently support widgets.\n",
       "</p>\n"
      ],
      "text/plain": [
       "interactive(children=(IntSlider(value=3, description='max_depth', max=5, min=1), FloatSlider(value=0.24, description='min_impurity_split', max=0.5, step=0.02), Output()), _dom_classes=('widget-interact',))"
      ]
     },
     "metadata": {},
     "output_type": "display_data"
    },
    {
     "data": {
      "text/plain": [
       "<function __main__.explain_data>"
      ]
     },
     "execution_count": 37,
     "metadata": {},
     "output_type": "execute_result"
    }
   ],
   "source": [
    "data, features, target = get_wine_data()\n",
    "interact(explain_data, max_depth=(1, 5, 1), min_impurity_split=(0, .5, .02))  "
   ]
  },
  {
   "cell_type": "markdown",
   "metadata": {
    "slideshow": {
     "slide_type": "slide"
    }
   },
   "source": [
    "# Presentation mode \n",
    "This is a slide! "
   ]
  },
  {
   "cell_type": "markdown",
   "metadata": {
    "slideshow": {
     "slide_type": "fragment"
    }
   },
   "source": [
    "This is a Fragment! \n",
    "Details: [RISE](https://damianavila.github.io/RISE/)"
   ]
  },
  {
   "cell_type": "code",
   "execution_count": 38,
   "metadata": {
    "scrolled": false,
    "slideshow": {
     "slide_type": "skip"
    }
   },
   "outputs": [],
   "source": [
    "# to install: \n",
    "#! pip install RISE\n",
    "#! jupyter-nbextension install rise --py --sys-prefix\n",
    "#! jupyter-nbextension enable rise --py --sys-prefix"
   ]
  },
  {
   "cell_type": "markdown",
   "metadata": {
    "slideshow": {
     "slide_type": "skip"
    }
   },
   "source": [
    "To edit the slideshow options, go to `view -> cell toolbar -> slideshow`   \n",
    "To run, click the `Enter/Exit RISE Slideshow`, in the toolbar \n",
    "\n",
    "This is a sub-slide! "
   ]
  },
  {
   "cell_type": "markdown",
   "metadata": {
    "slideshow": {
     "slide_type": "subslide"
    }
   },
   "source": [
    "## Some explanation \n",
    "Some simple sub explanation "
   ]
  },
  {
   "cell_type": "code",
   "execution_count": null,
   "metadata": {
    "slideshow": {
     "slide_type": "skip"
    }
   },
   "outputs": [],
   "source": [
    "def code_i_dont_want_to_show():\n",
    "    #secret sauce \n",
    "    #secret sauce \n",
    "    #secret sauce \n",
    "    Hugo = 'Secret Sauce'\n",
    "    return Hugo "
   ]
  },
  {
   "cell_type": "code",
   "execution_count": null,
   "metadata": {
    "slideshow": {
     "slide_type": "fragment"
    }
   },
   "outputs": [],
   "source": [
    "# did you notice we skipped the `code_i_dont_want_to_show()` cell?\n",
    "some_awesome_code = 'bit too much hype'"
   ]
  },
  {
   "cell_type": "code",
   "execution_count": 3,
   "metadata": {
    "slideshow": {
     "slide_type": "fragment"
    }
   },
   "outputs": [
    {
     "data": {
      "text/html": [
       "<img src=\"https://media.licdn.com/mpr/mpr/shrinknp_200_200/AAEAAQAAAAAAAAakAAAAJDJkZmRiYzdkLWY4NTItNDBhNi1iMGFkLWY0YmFhNmY5NTIxNg.jpg\"/>"
      ],
      "text/plain": [
       "<IPython.core.display.Image object>"
      ]
     },
     "execution_count": 3,
     "metadata": {},
     "output_type": "execute_result"
    }
   ],
   "source": [
    "Image(url='https://media.licdn.com/mpr/mpr/shrinknp_200_200/AAEAAQAAAAAAAAakAAAAJDJkZmRiYzdkLWY4NTItNDBhNi1iMGFkLWY0YmFhNmY5NTIxNg.jpg') "
   ]
  },
  {
   "cell_type": "markdown",
   "metadata": {
    "slideshow": {
     "slide_type": "slide"
    }
   },
   "source": [
    "# Next slide "
   ]
  },
  {
   "cell_type": "code",
   "execution_count": null,
   "metadata": {
    "slideshow": {
     "slide_type": "fragment"
    }
   },
   "outputs": [],
   "source": [
    "def more_stuff():\n",
    "    return 'And so on and so forth'"
   ]
  },
  {
   "cell_type": "markdown",
   "metadata": {
    "slideshow": {
     "slide_type": "slide"
    }
   },
   "source": [
    "# Unix commands\n",
    "(enough RISE for now) \n",
    "\n",
    "#### This might be when non-developers might want to go get a beer. If you are brave, stick around! "
   ]
  },
  {
   "cell_type": "markdown",
   "metadata": {
    "slideshow": {
     "slide_type": "slide"
    }
   },
   "source": [
    "Where is this notebook? "
   ]
  },
  {
   "cell_type": "code",
   "execution_count": 40,
   "metadata": {},
   "outputs": [
    {
     "name": "stdout",
     "output_type": "stream",
     "text": [
      "/Users/pedro/Desktop/talk_jupyter\r\n"
     ]
    }
   ],
   "source": [
    "!pwd"
   ]
  },
  {
   "cell_type": "markdown",
   "metadata": {},
   "source": [
    "What is in it? "
   ]
  },
  {
   "cell_type": "code",
   "execution_count": 41,
   "metadata": {},
   "outputs": [
    {
     "name": "stdout",
     "output_type": "stream",
     "text": [
      "Advanced Jupyter .ipynb \u001b[34mfiles\u001b[m\u001b[m                   super_cool_script.py\r\n",
      "\u001b[34m__pycache__\u001b[m\u001b[m             \u001b[34mimages\u001b[m\u001b[m                  tree.dot\r\n",
      "another_notebook.ipynb  results.txt\r\n",
      "\u001b[34mcode\u001b[m\u001b[m                    run_demo.py\r\n"
     ]
    }
   ],
   "source": [
    "!ls   # ! is optiona "
   ]
  },
  {
   "cell_type": "markdown",
   "metadata": {},
   "source": [
    "Can I haz folder? "
   ]
  },
  {
   "cell_type": "code",
   "execution_count": 42,
   "metadata": {},
   "outputs": [],
   "source": [
    "!mkdir useless_folder"
   ]
  },
  {
   "cell_type": "markdown",
   "metadata": {},
   "source": [
    "Can I go into it? (no need for `!` on this one)"
   ]
  },
  {
   "cell_type": "code",
   "execution_count": 43,
   "metadata": {},
   "outputs": [
    {
     "name": "stdout",
     "output_type": "stream",
     "text": [
      "/Users/pedro/Desktop/talk_jupyter/useless_folder\n"
     ]
    }
   ],
   "source": [
    "cd useless_folder "
   ]
  },
  {
   "cell_type": "code",
   "execution_count": 45,
   "metadata": {},
   "outputs": [
    {
     "name": "stdout",
     "output_type": "stream",
     "text": [
      "\u001b[1B  302\u001b[23;25H2413M  470\u001b[7C2  0.1  1:45.84 /usr/sbin/distnoted age\u001b[1;1HkTime\u001b[9;2H\u001b[m\u001b[m7037\u001b[9;25H3863M  369M ?  5.0  4.5  2:55.19\u001b[9;72HGoogle Ch\u001b[10;3H180\u001b[10;18H24   0 2528M  124M ?  3.0  1.5  0:11.98 /Library/Frameworks/Pyt\u001b[11;1H  117\u001b[11;26H548M 44164 ?  1.6  0.5 13:02.66\u001b[17CCoreSer\u001b[12;2H7023\u001b[12;25H3610M  376M ?  1.4  4.6  1:02.80 /Applications/Google Ch\u001b[13;1H  392\u001b[13;26H651M  114M ?  1.3  1.4  7:29.87\u001b[17CCoreSer\u001b[14;1H  467\u001b[14;18H24\u001b[6C500M  9244\u001b[6C6  0.1  5:56.32 /Applications/ClickShar\u001b[15;1H  490\u001b[15;18H24\u001b[6C599M 29552\u001b[6C4  0.4  5:04.58 /Applications/OpenVPN/O\u001b[16;3H029\u001b[16;18H17\u001b[6C864M  127M\u001b[6C4  1.6  0:22.17 /Applications/Google Ch\u001b[17;1H  488\u001b[17;18H24   0 4424M  133M\u001b[6C4  1.6  7:15.76 /Applications/Dropbox.a\u001b[18;3H052 pedro      17   0 3250M 87352\u001b[6C3  1\u001b[7C1.13 /Applications/Google Ch\u001b[19;1H  518\u001b[19;18H17\u001b[7C14M 10128\u001b[6C3  0.1  2:45.25 /System/Library/CoreSer\u001b[20;4H54\u001b[20;18H32   0 3238M 79908\u001b[6C3  1.0\u001b[7C78\u001b[20;72HGoogle Ch\u001b[21;5H1\u001b[21;26H252M 91044\u001b[6C2  1.1  0:01.4||||||\u001b[31m||||\u001b[3;34H\u001b[30m\u001b[1m34.4\u001b[3;63H\u001b[36m7\u001b[4;5H\u001b[m\u001b[32m|||\u001b[31m||\u001b[4;34H\u001b[30m\u001b[1m12.6\u001b[5;31H\u001b[m\u001b[33m2\u001b[12;19r\u001b[19;1H\n",
      "\u001b[1B77056\u001b[22;25H3309M  133M\u001b[6C1  1.6  0:02.75 /Applications/Google Ch\u001b[23;1H77008\u001b[23;25H2404M 60924\u001b[6C1  0.7  0:06.19 /Library/Frameworks/Pyt\u001b[1;1H83538\u001b[21;18H24\u001b[7C04M  4344 \u001b[32mR \u001b[21;50H\u001b[m\u001b[m0:00.06 htop\u001b[K7\u001b[23;25H3588M 28900\u001b[6C2  0.3  0:59.13 /Applications/Flux.app/\u001b[1;1HH16;1H77023\u001b[16;18H17   0 3610M  376\u001b[7C3  4.6  1:02.81\u001b[16;72HGoogle Ch\u001b[17;1H  488\u001b[17;18H24   0 4424M  133\u001b[17;45H1.6  7:15.77\u001b[17;72HDropbox.a\u001b[19;34H61\u001b[1;70H3\u001b[2;7H\u001b[m\u001b[31m|\u001b[30m\u001b[1m  \u001b[2;34H 8.0\u001b[3;16H \u001b[3;35H0.0\u001b[3;62H\u001b[36m40\u001b[4;34H\u001b[30m 9.9\u001b[5;31H\u001b[m\u001b[33m2\u001b[8;42H\u001b[30m\u001b[46m4\u001b[8;55H8\u001b[9;27H\u001b[m\u001b[m63\u001b[9;42H1\u001b[9;56H9\u001b[17\u001b[11;42H1\u001b[11;55H70\u001b[1;12H\u001b[32m|\u001b[31m||||||\u001b[1;35H\u001b[30m\u001b[1m9.1\u001b[1;54H\u001b[32m73\u001b[1;70H2\u001b[2;7H\u001b[m\u001b[32m||\u001b[31m||\u001b[2;34H\u001b[30m\u001b[1m14.6\u001b[3;13H\u001b[m\u001b[32m|\u001b[31m||||\u001b[3;35H\u001b[30m\u001b[1m6.4\u001b[3;63H\u001b[36m1\u001b[4;8H\u001b[m\u001b[32m|\u001b[31m||\u001b[4;34H\u001b[30m\u001b[1m14.0\u001b[8;39H\u001b[m\u001b[30m\u001b[46m30.0\u001b[8;52H10.33\u001b[9;40H\u001b[m\u001b[m8\u001b[9;55H41\u001b[10;3H023\u001b[10;18H17   0 3609M  376M ?  7.9  4.6  1:02.93 /Applications/Google Ch\u001b[11;1H77180\u001b[11;18H24\u001b[7C28M  124M ?  2.8  1.5  0:12.11 /Library/Frameworks/Pyt\u001b[12;1H  392\u001b[12;26H651M  114M ?  1.3  1.4  7:29.92 /System/Library/CoreSer\u001b[13;3H117\u001b[13;26H548M 44164 ?  1.0  0.5 13:02.71\u001b[14;4H88\u001b[14;25H4424M  133M\u001b[6C6  1.6  7:15.78\u001b[14;72HDropbox.a\u001b[15;4H67\u001b[15;27H00M  9244\u001b[6C6  0.1  5:56.34\u001b[15;72HClickShar\u001b[16;1H  490\u001b[16;18H24   0 2599M 29552\u001b[16;45H0.4  5:04.60\u001b[16;72HOpenVPN/O\u001b[17;3H51\u001b[17;18H17   0 2514M 10128\u001b[6C2  0.1  2:45.26 /System/Library/CoreSer\u001b[18;1H77029\u001b[18;26H864M  127M\u001b[6C2  1.6  0:22.19 /Applications/Google Ch\u001b[20;1H77008\u001b[20;27H04M 60924\u001b[6C1  0.7  0:06.18 /Library/Frameworks/Pyt\u001b[21;4H56\u001b[21;25H3309M  133M\u001b[6C1  1.6  0:02.75 /Applications/Google Ch\u001b[22;3H487\u001b[22;25H3588M 28900\u001b[6C1  0.3  0:59.13 /Applications/Flux.app/\u001b[23;1H  302\u001b[23;27H13M  4708\u001b[23;47H1  1:45.85 /usr/sbin/distnoted age\u001b[1;1H\u001b[17;23r\u001b[17;1H\u001b[3L\u001b[1;24r\u001b[1;13H\u001b[32m||||\u001b[31m|||||||\u001b[1;34H\u001b[30m\u001b[1m52.3\u001b[1;50H\u001b[36m8\u001b[m\u001b[36m, \u001b[32m\u001b[1m966\u001b[1;70H1\u001b[2;9H\u001b[m\u001b[32m|||\u001b[31m|||\u001b[2;34H\u001b[30m\u001b[1m26.7\u001b[3;14H\u001b[m\u001b[32m|||\u001b[31m||||||\u001b[3;34H\u001b[30m\u001b[1m49.3\u001b[3;63H\u001b[36m3\u001b[4;9H\u001b[m\u001b[32m|||\u001b[31m|||\u001b[4;34H\u001b[30m\u001b[1m29.1\u001b[8;2H\u001b[m\u001b[30m\u001b[46m7037\u001b[8;25H3863M  367M ? 32.0  4.5  2:55.89\u001b[8;72HGoogle Ch\u001b[9;2H\u001b[m\u001b[m5811\u001b[9;25H2743M  153M ? 30.0  1.9  5:10.78\u001b[9;72HQuickTime\u001b[10;39H14.3\u001b[10;53H3.15\u001b[11;3H029\u001b[11;18H17\u001b[6C864M  127M ?  3.7  1.6  0:22.24 /Applications/Google Ch\u001b[12;1H77180\u001b[12;18H24\u001b[6C528M  12\u001b[6C2.8  1.5  0:12.15 /Library/Frameworks/Pyt\u001b[13;42H5\u001b[13;56H4\u001b[14;3H392\u001b[14;18H17   0 2651M  114M ?  1.4  1.4  7:29.94 /System/Library/CoreSer\u001b[15;4H90\u001b[15;27H99M 29552\u001b[6C8  0.4  5:04.61\u001b[15;72HOpenVPN/O\u001b[16;4H67\u001b[16;27H00M  9244\u001b[6C6  0.1  5:56.35\u001b[16;72HClickShar\u001b[17;3H488 pedro\u001b[6C24   0 4424M  133M ?  0.3  1.6  7:15.79 /Applications/Dropbox.a\u001b[18;3H518 pedro\u001b[6C17   0 2514M 10128 ?  0.3  0.1  2:45.26 /System/Library/CoreSer\u001b[19;3H394 pedro\u001b[6C17   0 2556M 40628 ?  0.3  0.5  1:24.46 /System/Library/CoreSer\u001b[20;3H302\u001b[20;26H413M  470\u001b[20;50H1:45.85 /usr/sbin/distnoted age\u001b[21;1H  29\u001b[21;26H421M 11484\u001b[21;45H0.1  1:47.10 /usr/sbin/cfprefsd agen\u001b[22;34H8\u001b[7C1\u001b[H\u001b[1;16H\u001b[31m|\u001b[6C\u001b[30m\u001b[1m \u001b[1;35H0.7\u001b[1;54H\u001b[32m59\u001b[1;70H2\u001b[2;12H\u001b[m\u001b[32m|\u001b[31m|||\u001b[2;35H\u001b[30m\u001b[1m9.8\u001b[2;55H\u001b[m2.08 \u001b[36m2.21 \u001b[m\u001b[36m2.51\u001b[3;16H\u001b[31m|||||\u001b[30m\u001b[1m  \u001b[3;35H6.0\u001b[3;63H\u001b[36m5\u001b[4;12H\u001b[m\u001b[32m|\u001b[31m||||\u001b[4;34H\u001b[30m\u001b[1m32.5\u001b[5;31H\u001b[m\u001b[33m3\u001b[8;28H\u001b[30m\u001b[46m9M  368\u001b[7C2\u001b[8;53H6.38\u001b[9;28H\u001b[m\u001b[m4\u001b[9;39H29.5\u001b[9;53H1.23\u001b[10;5H9\u001b[10;25H2870M  127M ?  6.3  1.6  0:22.34\u001b[11;5H3\u001b[11;25H3609M  376M ?  5.5  4.6  1:03.23\u001b[12;42H9\u001b[12;55H20\u001b[13;42H8\u001b[13;56H6\u001b[14;42H5\u001b[14;56H6\u001b[15;4H67\u001b[15;27H00M  9244\u001b[6C7  0.1  5:56.36\u001b[15;72HClickShar\u001b[16;4H88\u001b[16;25H4424M  133M\u001b[6C5  1.6  7:15.79\u001b[16;72HDropbox.a\u001b[17;4H90\u001b[17;25H2599M 29552\u001b[6C4  0.4  5:04.62\u001b[17;72HOpenVPN/O\u001b[18;56H7\u001b[1;16H\u001b[32m|||\u001b[31m|||||||\u001b[1;35H\u001b[30m\u001b[1m8.9\u001b[1;49H\u001b[36m42\u001b[m\u001b[36m, \u001b[32m\u001b[1m965\u001b[1;70H3\u001b[2;13H\u001b[m\u001b[32m||\u001b[31m||||\u001b[2;34H\u001b[30m\u001b[1m37.7\u001b[3;16H\u001b[m\u001b[32m|||\u001b[31m|||||||\u001b[3;34H\u001b[30m\u001b[1m58.6\u001b[3;63H\u001b[36m6\u001b[4;13H\u001b[m\u001b[32m||\u001b[31m||||\u001b[4;35H\u001b[30m\u001b[1m7.3\u001b[8;27H\u001b[m\u001b[30m\u001b[46m78M  370M ? 53.5\u001b[8;53H7.1\u001b[9;28H\u001b[m\u001b[m6M  154M ? 28.0\u001b[9;55H65\u001b[10;5H3\u001b[10;25H3609M  376M ? 11.8  4.6  1:03.41\u001b[11;5H9\u001b[11;25H2870M  127M ?  6.5  1.6  0:22.44\u001b[14\u001b[19\u001b[14;42H4\u001b[14;56H8\u001b[17\u001b[16;42H6\u001b[16;55H80\u001b[17;42H5\u001b[17;56H3\u001b[18;42H4\u001b[18;22r\u001b[22;1H\n",
      "\u001b[?1l\u001b>08\u001b[18;27H04M 60924\u001b[18;47H7  0:06.19 /Library/Frameworks/Pyt\u001b[19;3H518\u001b[19;26H514M 10128\u001b[19;50H2:45.27 /System/Library/CoreSer\u001b[21;1H  487\u001b[21;26H588M 28900\u001b[21;45H0.3  0:59.13\u001b[21;72HFlux.app/\u001b[22;3H302 pedro\u001b[6C17   0 2413M  4708 ?  0.1  0.1  1:45.86 /usr/sbin/distnoted age\u001b[23;4H56\u001b[23;25H3309M  133M\u001b[23;45H1.6  0:02.75 /Applications/Google Ch\u001b[1;1H\u001b[?1000l\u001b[24;1H\u001b[2J\u001b[?47l\u001b8"
     ]
    }
   ],
   "source": [
    "!htop"
   ]
  },
  {
   "cell_type": "markdown",
   "metadata": {},
   "source": [
    "Can I put stuff in it? "
   ]
  },
  {
   "cell_type": "code",
   "execution_count": 49,
   "metadata": {},
   "outputs": [],
   "source": [
    "!touch useless_folder/my_file.txt "
   ]
  },
  {
   "cell_type": "markdown",
   "metadata": {},
   "source": [
    "Can I go back? "
   ]
  },
  {
   "cell_type": "code",
   "execution_count": 50,
   "metadata": {},
   "outputs": [
    {
     "name": "stdout",
     "output_type": "stream",
     "text": [
      "/Users/pedro/Desktop\n"
     ]
    }
   ],
   "source": [
    "cd .."
   ]
  },
  {
   "cell_type": "markdown",
   "metadata": {},
   "source": [
    "Does it now exist? "
   ]
  },
  {
   "cell_type": "code",
   "execution_count": 51,
   "metadata": {},
   "outputs": [
    {
     "name": "stdout",
     "output_type": "stream",
     "text": [
      "ls: useless_folder/: No such file or directory\r\n"
     ]
    }
   ],
   "source": [
    "!ls useless_folder/"
   ]
  },
  {
   "cell_type": "markdown",
   "metadata": {},
   "source": [
    "I kill? Yes? "
   ]
  },
  {
   "cell_type": "code",
   "execution_count": 53,
   "metadata": {},
   "outputs": [],
   "source": [
    "rm -rf useless_folder/  # if you don't know unix, never rm -rf"
   ]
  },
  {
   "cell_type": "markdown",
   "metadata": {},
   "source": [
    "## 2.2 LaTeX "
   ]
  },
  {
   "cell_type": "markdown",
   "metadata": {},
   "source": [
    "The quadratic equation solver is $$ \\frac{-b\\pm\\sqrt{b^2-4ac}}{2a} $$"
   ]
  },
  {
   "cell_type": "markdown",
   "metadata": {},
   "source": [
    "The quadratic equation solver is $ \\frac{-b\\pm\\sqrt{b^2-4ac}}{2a} $"
   ]
  },
  {
   "cell_type": "markdown",
   "metadata": {},
   "source": [
    "## 2.3 Debugging "
   ]
  },
  {
   "cell_type": "code",
   "execution_count": 55,
   "metadata": {},
   "outputs": [],
   "source": [
    "def my_buggy_function(): \n",
    "    \"\"\"\n",
    "    Deliberately confusing and buggy code\n",
    "    \"\"\"\n",
    "    a = 3\n",
    "    b = None \n",
    "    c = 5 \n",
    "    # lots of code \n",
    "    # lots of code \n",
    "    def what_do_you_think_this_is_JavaScript(variable, names, matter):\n",
    "        intermediate_stuff = variable + names / matter\n",
    "        return intermediate_stuff  \n",
    "    # lots of code \n",
    "    # lots of code \n",
    "    what_do_you_think_this_is_JavaScript(a, b, 3)\n",
    "    # lots of code \n",
    "    # lots of code \n",
    "    return correct_answer_with_any_luck"
   ]
  },
  {
   "cell_type": "markdown",
   "metadata": {},
   "source": [
    "Try running it: "
   ]
  },
  {
   "cell_type": "code",
   "execution_count": 56,
   "metadata": {},
   "outputs": [
    {
     "name": "stdout",
     "output_type": "stream",
     "text": [
      "The hell is this error? Python must be wrong!\n",
      "---> unsupported operand type(s) for /: 'NoneType' and 'int'\n"
     ]
    }
   ],
   "source": [
    "try: \n",
    "    my_buggy_function()\n",
    "except Exception as e:\n",
    "    print('The hell is this error? Python must be wrong!\\n--->', e)"
   ]
  },
  {
   "cell_type": "code",
   "execution_count": 57,
   "metadata": {},
   "outputs": [
    {
     "name": "stdout",
     "output_type": "stream",
     "text": [
      "Automatic pdb calling has been turned ON\n"
     ]
    }
   ],
   "source": [
    "% pdb"
   ]
  },
  {
   "cell_type": "code",
   "execution_count": 58,
   "metadata": {},
   "outputs": [
    {
     "ename": "TypeError",
     "evalue": "unsupported operand type(s) for /: 'NoneType' and 'int'",
     "output_type": "error",
     "traceback": [
      "\u001b[0;31m---------------------------------------------------------------------------\u001b[0m",
      "\u001b[0;31mTypeError\u001b[0m                                 Traceback (most recent call last)",
      "\u001b[0;32m<ipython-input-58-93b5ff91826c>\u001b[0m in \u001b[0;36m<module>\u001b[0;34m()\u001b[0m\n\u001b[0;32m----> 1\u001b[0;31m \u001b[0mmy_buggy_function\u001b[0m\u001b[0;34m(\u001b[0m\u001b[0;34m)\u001b[0m\u001b[0;34m\u001b[0m\u001b[0m\n\u001b[0m\u001b[1;32m      2\u001b[0m \u001b[0;34m\u001b[0m\u001b[0m\n\u001b[1;32m      3\u001b[0m \u001b[0;31m# run this, then write this in the box: type(names)\u001b[0m\u001b[0;34m\u001b[0m\u001b[0;34m\u001b[0m\u001b[0m\n\u001b[1;32m      4\u001b[0m \u001b[0;31m# when you've explored the variable names, write exit\u001b[0m\u001b[0;34m\u001b[0m\u001b[0;34m\u001b[0m\u001b[0m\n",
      "\u001b[0;32m<ipython-input-55-7b66285759ee>\u001b[0m in \u001b[0;36mmy_buggy_function\u001b[0;34m()\u001b[0m\n\u001b[1;32m     13\u001b[0m     \u001b[0;31m# lots of code\u001b[0m\u001b[0;34m\u001b[0m\u001b[0;34m\u001b[0m\u001b[0m\n\u001b[1;32m     14\u001b[0m     \u001b[0;31m# lots of code\u001b[0m\u001b[0;34m\u001b[0m\u001b[0;34m\u001b[0m\u001b[0m\n\u001b[0;32m---> 15\u001b[0;31m     \u001b[0mwhat_do_you_think_this_is_JavaScript\u001b[0m\u001b[0;34m(\u001b[0m\u001b[0ma\u001b[0m\u001b[0;34m,\u001b[0m \u001b[0mb\u001b[0m\u001b[0;34m,\u001b[0m \u001b[0;36m3\u001b[0m\u001b[0;34m)\u001b[0m\u001b[0;34m\u001b[0m\u001b[0m\n\u001b[0m\u001b[1;32m     16\u001b[0m     \u001b[0;31m# lots of code\u001b[0m\u001b[0;34m\u001b[0m\u001b[0;34m\u001b[0m\u001b[0m\n\u001b[1;32m     17\u001b[0m     \u001b[0;31m# lots of code\u001b[0m\u001b[0;34m\u001b[0m\u001b[0;34m\u001b[0m\u001b[0m\n",
      "\u001b[0;32m<ipython-input-55-7b66285759ee>\u001b[0m in \u001b[0;36mwhat_do_you_think_this_is_JavaScript\u001b[0;34m(variable, names, matter)\u001b[0m\n\u001b[1;32m      9\u001b[0m     \u001b[0;31m# lots of code\u001b[0m\u001b[0;34m\u001b[0m\u001b[0;34m\u001b[0m\u001b[0m\n\u001b[1;32m     10\u001b[0m     \u001b[0;32mdef\u001b[0m \u001b[0mwhat_do_you_think_this_is_JavaScript\u001b[0m\u001b[0;34m(\u001b[0m\u001b[0mvariable\u001b[0m\u001b[0;34m,\u001b[0m \u001b[0mnames\u001b[0m\u001b[0;34m,\u001b[0m \u001b[0mmatter\u001b[0m\u001b[0;34m)\u001b[0m\u001b[0;34m:\u001b[0m\u001b[0;34m\u001b[0m\u001b[0m\n\u001b[0;32m---> 11\u001b[0;31m         \u001b[0mintermediate_stuff\u001b[0m \u001b[0;34m=\u001b[0m \u001b[0mvariable\u001b[0m \u001b[0;34m+\u001b[0m \u001b[0mnames\u001b[0m \u001b[0;34m/\u001b[0m \u001b[0mmatter\u001b[0m\u001b[0;34m\u001b[0m\u001b[0m\n\u001b[0m\u001b[1;32m     12\u001b[0m         \u001b[0;32mreturn\u001b[0m \u001b[0mintermediate_stuff\u001b[0m\u001b[0;34m\u001b[0m\u001b[0m\n\u001b[1;32m     13\u001b[0m     \u001b[0;31m# lots of code\u001b[0m\u001b[0;34m\u001b[0m\u001b[0;34m\u001b[0m\u001b[0m\n",
      "\u001b[0;31mTypeError\u001b[0m: unsupported operand type(s) for /: 'NoneType' and 'int'"
     ]
    },
    {
     "name": "stdout",
     "output_type": "stream",
     "text": [
      "> \u001b[0;32m<ipython-input-55-7b66285759ee>\u001b[0m(11)\u001b[0;36mwhat_do_you_think_this_is_JavaScript\u001b[0;34m()\u001b[0m\n",
      "\u001b[0;32m      9 \u001b[0;31m    \u001b[0;31m# lots of code\u001b[0m\u001b[0;34m\u001b[0m\u001b[0;34m\u001b[0m\u001b[0m\n",
      "\u001b[0m\u001b[0;32m     10 \u001b[0;31m    \u001b[0;32mdef\u001b[0m \u001b[0mwhat_do_you_think_this_is_JavaScript\u001b[0m\u001b[0;34m(\u001b[0m\u001b[0mvariable\u001b[0m\u001b[0;34m,\u001b[0m \u001b[0mnames\u001b[0m\u001b[0;34m,\u001b[0m \u001b[0mmatter\u001b[0m\u001b[0;34m)\u001b[0m\u001b[0;34m:\u001b[0m\u001b[0;34m\u001b[0m\u001b[0m\n",
      "\u001b[0m\u001b[0;32m---> 11 \u001b[0;31m        \u001b[0mintermediate_stuff\u001b[0m \u001b[0;34m=\u001b[0m \u001b[0mvariable\u001b[0m \u001b[0;34m+\u001b[0m \u001b[0mnames\u001b[0m \u001b[0;34m/\u001b[0m \u001b[0mmatter\u001b[0m\u001b[0;34m\u001b[0m\u001b[0m\n",
      "\u001b[0m\u001b[0;32m     12 \u001b[0;31m        \u001b[0;32mreturn\u001b[0m \u001b[0mintermediate_stuff\u001b[0m\u001b[0;34m\u001b[0m\u001b[0m\n",
      "\u001b[0m\u001b[0;32m     13 \u001b[0;31m    \u001b[0;31m# lots of code\u001b[0m\u001b[0;34m\u001b[0m\u001b[0;34m\u001b[0m\u001b[0m\n",
      "\u001b[0m\n",
      "ipdb> variable\n",
      "3\n",
      "ipdb> names\n",
      "ipdb> type(names)\n",
      "<class 'NoneType'>\n",
      "ipdb> up\n",
      "> \u001b[0;32m<ipython-input-55-7b66285759ee>\u001b[0m(15)\u001b[0;36mmy_buggy_function\u001b[0;34m()\u001b[0m\n",
      "\u001b[0;32m     13 \u001b[0;31m    \u001b[0;31m# lots of code\u001b[0m\u001b[0;34m\u001b[0m\u001b[0;34m\u001b[0m\u001b[0m\n",
      "\u001b[0m\u001b[0;32m     14 \u001b[0;31m    \u001b[0;31m# lots of code\u001b[0m\u001b[0;34m\u001b[0m\u001b[0;34m\u001b[0m\u001b[0m\n",
      "\u001b[0m\u001b[0;32m---> 15 \u001b[0;31m    \u001b[0mwhat_do_you_think_this_is_JavaScript\u001b[0m\u001b[0;34m(\u001b[0m\u001b[0ma\u001b[0m\u001b[0;34m,\u001b[0m \u001b[0mb\u001b[0m\u001b[0;34m,\u001b[0m \u001b[0;36m3\u001b[0m\u001b[0;34m)\u001b[0m\u001b[0;34m\u001b[0m\u001b[0m\n",
      "\u001b[0m\u001b[0;32m     16 \u001b[0;31m    \u001b[0;31m# lots of code\u001b[0m\u001b[0;34m\u001b[0m\u001b[0;34m\u001b[0m\u001b[0m\n",
      "\u001b[0m\u001b[0;32m     17 \u001b[0;31m    \u001b[0;31m# lots of code\u001b[0m\u001b[0;34m\u001b[0m\u001b[0;34m\u001b[0m\u001b[0m\n",
      "\u001b[0m\n",
      "ipdb> exit \n"
     ]
    }
   ],
   "source": [
    "my_buggy_function()  \n",
    "\n",
    "# run this, then write this in the box: type(names)\n",
    "# when you've explored the variable names, write exit "
   ]
  },
  {
   "cell_type": "code",
   "execution_count": 59,
   "metadata": {},
   "outputs": [
    {
     "name": "stdout",
     "output_type": "stream",
     "text": [
      "Automatic pdb calling has been turned OFF\n"
     ]
    }
   ],
   "source": [
    "% pdb "
   ]
  },
  {
   "cell_type": "markdown",
   "metadata": {},
   "source": [
    "How cool is that? You can live debug in the notebook! "
   ]
  },
  {
   "cell_type": "markdown",
   "metadata": {},
   "source": [
    "# Code profiling "
   ]
  },
  {
   "cell_type": "code",
   "execution_count": 60,
   "metadata": {},
   "outputs": [
    {
     "name": "stdout",
     "output_type": "stream",
     "text": [
      "CPU times: user 348 µs, sys: 28 µs, total: 376 µs\n",
      "Wall time: 419 µs\n"
     ]
    }
   ],
   "source": [
    "% time my_sum = sum(range(10000))"
   ]
  },
  {
   "cell_type": "code",
   "execution_count": 63,
   "metadata": {},
   "outputs": [
    {
     "name": "stdout",
     "output_type": "stream",
     "text": [
      "266 µs ± 15.8 µs per loop (mean ± std. dev. of 7 runs, 1000 loops each)\n"
     ]
    }
   ],
   "source": [
    "% timeit my_sum = sum(range(10000))"
   ]
  },
  {
   "cell_type": "markdown",
   "metadata": {},
   "source": [
    "Line by line "
   ]
  },
  {
   "cell_type": "code",
   "execution_count": 64,
   "metadata": {},
   "outputs": [],
   "source": [
    "import time \n",
    "def run(answer):\n",
    "    print(\n",
    "        '\\nPreparing to run the deep neural nets on the blockchain on %s'\n",
    "        % answer)\n",
    "    def first_block():\n",
    "        time.sleep(1)\n",
    "        print('\\n\\nFitting the Deep Neural Net...')\n",
    "        for i in range(5):\n",
    "            print('.', end='')\n",
    "            time.sleep(0.05)\n",
    "    def second_block():\n",
    "        time.sleep(.5)\n",
    "        print('\\n\\nFitting the even deeper neural network with RNNs')\n",
    "        for i in range(30):\n",
    "            print('.', end='')\n",
    "            time.sleep(0.05)\n",
    "    def third_block():    \n",
    "        print('\\n\\nDoing completely useless sums')\n",
    "        sum(range(10000000))\n",
    "        time.sleep(.5)\n",
    "    \n",
    "    def fourth_block():\n",
    "        print('\\n\\nPrinting the Smart Contract on the Blockchain')\n",
    "        for i in range(10):\n",
    "            print('.', end='')\n",
    "            time.sleep(0.2)\n",
    "        time.sleep(1)\n",
    "        \n",
    "    def last():\n",
    "        print('\\n\\nWaiting for the ink to dry...')\n",
    "        time.sleep(1)\n",
    "        \n",
    "    first_block()\n",
    "    second_block()\n",
    "    third_block()\n",
    "    fourth_block()\n",
    "    last()\n",
    "    print('\\n\\nComplete. Damn that was impressive.')"
   ]
  },
  {
   "cell_type": "code",
   "execution_count": 65,
   "metadata": {},
   "outputs": [
    {
     "name": "stdout",
     "output_type": "stream",
     "text": [
      "\n",
      "Preparing to run the deep neural nets on the blockchain on big_csv.csv\n",
      "\n",
      "\n",
      "Fitting the Deep Neural Net...\n",
      ".....\n",
      "\n",
      "Fitting the even deeper neural network with RNNs\n",
      "..............................\n",
      "\n",
      "Doing completely useless sums\n",
      "\n",
      "\n",
      "Printing the Smart Contract on the Blockchain\n",
      "..........\n",
      "\n",
      "Waiting for the ink to dry...\n",
      "\n",
      "\n",
      "Complete. Damn that was impressive.\n",
      " "
     ]
    }
   ],
   "source": [
    "%prun run('big_csv.csv')"
   ]
  },
  {
   "cell_type": "markdown",
   "metadata": {},
   "source": [
    "Line per line profiling (did I mention we can pip install from here?)"
   ]
  },
  {
   "cell_type": "code",
   "execution_count": 66,
   "metadata": {},
   "outputs": [
    {
     "name": "stdout",
     "output_type": "stream",
     "text": [
      "Requirement already satisfied: line_profiler in /Users/pedro/.virtualenvs/james/lib/python3.4/site-packages\n",
      "Requirement already satisfied: IPython>=0.13 in /Users/pedro/.virtualenvs/james/lib/python3.4/site-packages (from line_profiler)\n",
      "Requirement already satisfied: prompt-toolkit<2.0.0,>=1.0.4 in /Users/pedro/.virtualenvs/james/lib/python3.4/site-packages (from IPython>=0.13->line_profiler)\n",
      "Requirement already satisfied: simplegeneric>0.8 in /Users/pedro/.virtualenvs/james/lib/python3.4/site-packages (from IPython>=0.13->line_profiler)\n",
      "Requirement already satisfied: pexpect; sys_platform != \"win32\" in /Users/pedro/.virtualenvs/james/lib/python3.4/site-packages (from IPython>=0.13->line_profiler)\n",
      "Requirement already satisfied: pygments in /Users/pedro/.virtualenvs/james/lib/python3.4/site-packages (from IPython>=0.13->line_profiler)\n",
      "Requirement already satisfied: jedi>=0.10 in /Users/pedro/.virtualenvs/james/lib/python3.4/site-packages (from IPython>=0.13->line_profiler)\n",
      "Requirement already satisfied: setuptools>=18.5 in /Users/pedro/.virtualenvs/james/lib/python3.4/site-packages (from IPython>=0.13->line_profiler)\n",
      "Requirement already satisfied: traitlets>=4.2 in /Users/pedro/.virtualenvs/james/lib/python3.4/site-packages (from IPython>=0.13->line_profiler)\n",
      "Requirement already satisfied: typing; python_version <= \"3.4\" in /Users/pedro/.virtualenvs/james/lib/python3.4/site-packages (from IPython>=0.13->line_profiler)\n",
      "Requirement already satisfied: pickleshare in /Users/pedro/.virtualenvs/james/lib/python3.4/site-packages (from IPython>=0.13->line_profiler)\n",
      "Requirement already satisfied: appnope; sys_platform == \"darwin\" in /Users/pedro/.virtualenvs/james/lib/python3.4/site-packages (from IPython>=0.13->line_profiler)\n",
      "Requirement already satisfied: decorator in /Users/pedro/.virtualenvs/james/lib/python3.4/site-packages (from IPython>=0.13->line_profiler)\n",
      "Requirement already satisfied: wcwidth in /Users/pedro/.virtualenvs/james/lib/python3.4/site-packages (from prompt-toolkit<2.0.0,>=1.0.4->IPython>=0.13->line_profiler)\n",
      "Requirement already satisfied: six>=1.9.0 in /Users/pedro/.virtualenvs/james/lib/python3.4/site-packages (from prompt-toolkit<2.0.0,>=1.0.4->IPython>=0.13->line_profiler)\n",
      "Requirement already satisfied: ptyprocess>=0.5 in /Users/pedro/.virtualenvs/james/lib/python3.4/site-packages (from pexpect; sys_platform != \"win32\"->IPython>=0.13->line_profiler)\n",
      "Requirement already satisfied: parso==0.1.0 in /Users/pedro/.virtualenvs/james/lib/python3.4/site-packages (from jedi>=0.10->IPython>=0.13->line_profiler)\n",
      "Requirement already satisfied: ipython-genutils in /Users/pedro/.virtualenvs/james/lib/python3.4/site-packages (from traitlets>=4.2->IPython>=0.13->line_profiler)\n"
     ]
    }
   ],
   "source": [
    "! pip install line_profiler"
   ]
  },
  {
   "cell_type": "code",
   "execution_count": 67,
   "metadata": {},
   "outputs": [],
   "source": [
    "%load_ext line_profiler"
   ]
  },
  {
   "cell_type": "code",
   "execution_count": 68,
   "metadata": {},
   "outputs": [
    {
     "name": "stdout",
     "output_type": "stream",
     "text": [
      "\n",
      "Preparing to run the deep neural nets on the blockchain on awesome_file\n",
      "\n",
      "\n",
      "Fitting the Deep Neural Net...\n",
      ".....\n",
      "\n",
      "Fitting the even deeper neural network with RNNs\n",
      "..............................\n",
      "\n",
      "Doing completely useless sums\n",
      "\n",
      "\n",
      "Printing the Smart Contract on the Blockchain\n",
      "..........\n",
      "\n",
      "Waiting for the ink to dry...\n",
      "\n",
      "\n",
      "Complete. Damn that was impressive.\n"
     ]
    }
   ],
   "source": [
    "%lprun -f run run('awesome_file')"
   ]
  },
  {
   "cell_type": "markdown",
   "metadata": {},
   "source": [
    "# Memory profiling "
   ]
  },
  {
   "cell_type": "code",
   "execution_count": 69,
   "metadata": {},
   "outputs": [
    {
     "name": "stdout",
     "output_type": "stream",
     "text": [
      "Requirement already satisfied: memory_profiler in /Users/pedro/.virtualenvs/james/lib/python3.4/site-packages\r\n"
     ]
    }
   ],
   "source": [
    "! pip install memory_profiler"
   ]
  },
  {
   "cell_type": "code",
   "execution_count": 70,
   "metadata": {},
   "outputs": [],
   "source": [
    "%load_ext memory_profiler"
   ]
  },
  {
   "cell_type": "code",
   "execution_count": 71,
   "metadata": {},
   "outputs": [
    {
     "name": "stdout",
     "output_type": "stream",
     "text": [
      "\n",
      "Preparing to run the deep neural nets on the blockchain on big_csv.csv\n",
      "\n",
      "\n",
      "Fitting the Deep Neural Net...\n",
      ".....\n",
      "\n",
      "Fitting the even deeper neural network with RNNs\n",
      "..............................\n",
      "\n",
      "Doing completely useless sums\n",
      "\n",
      "\n",
      "Printing the Smart Contract on the Blockchain\n",
      "..........\n",
      "\n",
      "Waiting for the ink to dry...\n",
      "\n",
      "\n",
      "Complete. Damn that was impressive.\n",
      "peak memory: 124.88 MiB, increment: 0.01 MiB\n"
     ]
    }
   ],
   "source": [
    "%memit run('big_csv.csv')"
   ]
  },
  {
   "cell_type": "markdown",
   "metadata": {},
   "source": [
    "**`%mprun`** does the memory equivalent as **`%prun`**, but unfortunately it's [crazy buggy](https://perso.crans.org/besson/publis/notebooks/Profiling_in_a_Jupyter_notebook.html) (skipped here) "
   ]
  },
  {
   "cell_type": "code",
   "execution_count": null,
   "metadata": {},
   "outputs": [],
   "source": [
    "# %mprun -T res.txt -f run_demo long_function('as_if_it_made_any_difference.csv')   # now run and profile it "
   ]
  },
  {
   "cell_type": "markdown",
   "metadata": {},
   "source": [
    "### Writing straight to file: "
   ]
  },
  {
   "cell_type": "code",
   "execution_count": 72,
   "metadata": {},
   "outputs": [
    {
     "name": "stdout",
     "output_type": "stream",
     "text": [
      "Writing run_demo.py\n"
     ]
    }
   ],
   "source": [
    "%%file run_demo.py \n",
    "\n",
    "import tensorflow as tf  # <-- valuation += 9000 \n",
    "\n",
    "def something_i_want_on_file():\n",
    "    print('thank heavens this is on file now, using control-c is so much trouble')"
   ]
  },
  {
   "cell_type": "code",
   "execution_count": 73,
   "metadata": {},
   "outputs": [
    {
     "name": "stdout",
     "output_type": "stream",
     "text": [
      "\r\n",
      "import tensorflow as tf  # <-- valuation += 9000 \r\n",
      "\r\n",
      "def something_i_want_on_file():\r\n",
      "    print('thank heavens this is on file now, using control-c is so much trouble')"
     ]
    }
   ],
   "source": [
    "cat run_demo.py"
   ]
  },
  {
   "cell_type": "markdown",
   "metadata": {},
   "source": [
    "Lazy passing data between notebooks"
   ]
  },
  {
   "cell_type": "code",
   "execution_count": 74,
   "metadata": {},
   "outputs": [
    {
     "name": "stdout",
     "output_type": "stream",
     "text": [
      "Stored 'answer' (str)\n"
     ]
    }
   ],
   "source": [
    "answer = 'this is the correct answer'\n",
    "\n",
    "%store answer \n",
    "del answer "
   ]
  },
  {
   "cell_type": "markdown",
   "metadata": {},
   "source": [
    "# Working on remote "
   ]
  },
  {
   "cell_type": "markdown",
   "metadata": {},
   "source": [
    "This is where things get hardcore. You can switch Kernels within the notebook... "
   ]
  },
  {
   "cell_type": "code",
   "execution_count": 75,
   "metadata": {},
   "outputs": [
    {
     "name": "stdout",
     "output_type": "stream",
     "text": [
      "I have 4 CPUs to play with\n",
      "I have 8.59 GB of memory available\n"
     ]
    }
   ],
   "source": [
    "import psutil\n",
    "print('I have %0.0f CPUs to play with' % psutil.cpu_count())\n",
    "print('I have %0.2f GB of memory available' % (psutil.virtual_memory().total * 10**-9))"
   ]
  },
  {
   "cell_type": "markdown",
   "metadata": {},
   "source": [
    "Yay! More cores! "
   ]
  },
  {
   "cell_type": "markdown",
   "metadata": {},
   "source": [
    "    workon my-virtualenv-name  \n",
    "    pip install ipykernel  \n",
    "    python -m ipykernel install --user --name=my-virtualenv-name  "
   ]
  },
  {
   "cell_type": "markdown",
   "metadata": {},
   "source": [
    "----"
   ]
  },
  {
   "cell_type": "markdown",
   "metadata": {},
   "source": [
    "# References, further reading:"
   ]
  },
  {
   "cell_type": "markdown",
   "metadata": {},
   "source": [
    "- Highly inspired by [DataQuest's notebook with tips and tricks](https://www.dataquest.io/blog/jupyter-notebook-tips-tricks-shortcuts/)  \n",
    "- Also contains some tricks by [DominoDataLab](https://blog.dominodatalab.com/lesser-known-ways-of-using-notebooks/)\n",
    "- [RISE documentation](https://damianavila.github.io/RISE/)\n",
    "\n",
    "- [More cool DominoDataLab Stufff](https://blog.dominodatalab.com/interactive-dashboards-in-jupyter/)\n",
    "- [Code profiling by JakeVDP](https://jakevdp.github.io/PythonDataScienceHandbook/01.07-timing-and-profiling.html) \n",
    "- [Fortran and Cyton](http://arogozhnikov.github.io/2016/09/10/jupyter-features.html)  \n",
    "- Add Big data Analysis: [link](http://arogozhnikov.github.io/2016/09/10/jupyter-features.html)   \n",
    "- Also figure out if this is safe: [link](http://arogozhnikov.github.io/2016/09/10/jupyter-features.html#Let-others-to-play-with-your-code-without-installing-anything)"
   ]
  },
  {
   "cell_type": "code",
   "execution_count": null,
   "metadata": {},
   "outputs": [],
   "source": []
  }
 ],
 "metadata": {
  "kernelspec": {
   "display_name": "Python 3",
   "language": "python",
   "name": "python3"
  },
  "language_info": {
   "codemirror_mode": {
    "name": "ipython",
    "version": 3
   },
   "file_extension": ".py",
   "mimetype": "text/x-python",
   "name": "python",
   "nbconvert_exporter": "python",
   "pygments_lexer": "ipython3",
   "version": "3.4.3"
  }
 },
 "nbformat": 4,
 "nbformat_minor": 2
}
